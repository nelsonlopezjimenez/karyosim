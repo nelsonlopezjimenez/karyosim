{
 "cells": [
  {
   "cell_type": "code",
   "execution_count": null,
   "metadata": {},
   "outputs": [],
   "source": []
  },
  {
   "cell_type": "markdown",
   "metadata": {},
   "source": [
    "# Chromosome 22\n",
    "## NC_000022.11\n",
    "\n",
    "### Algorithm\n",
    "\n",
    "1. read full sequence at C:\\Users\\creeperpandatrex\\Documents\\1000genomes\\DATA\\38.p14\\CHROMOSOME-22\n",
    "1. file: nuccore-nc_000022.11.fasta \n",
    "1. size: 50337 Kb \n",
    "1. process file: delete newline chars\n",
    "1. read feature file file:///C:/Users/creeperpandatrex/Documents/1000genomes/DATA/38.p14/awk_ID_symbol_start_end_chr_22\n",
    "1. loop\n",
    "    1. for each line in awk_ID_symbol_start_end_chr_22 \n",
    "    1. read ID, symbol, start, end\n",
    "    1. build the sequence\n",
    "    1. generate hashes: from geneID, from geneSymbol, from gene sequence\n",
    "    1. save as { 'geneID': 'a_number', 'geneSymbol': 'geneSymbolHashXXXXXX', 'geneIDhash':'XXXXXXXX' }\n",
    "    1. and { 'geneIDhash': 'geneHash'}\n",
    "1. Save to a file\n"
   ]
  },
  {
   "cell_type": "code",
   "execution_count": 12,
   "metadata": {},
   "outputs": [],
   "source": [
    "# GLOBALS\n",
    "import sys\n",
    "import json\n",
    "import gzip\n",
    "from hashlib import sha256\n",
    "import os\n",
    "from dotenv import load_dotenv\n",
    "\n",
    "inputPath = 'C:\\\\Users\\\\creeperpandatrex\\\\Documents\\\\1000genomes\\\\DATA\\\\38.p14\\\\CHROMOSOME-22\\\\'\n",
    "inputFile = 'nuccore-nc_000022.11.fasta'\n",
    "# C:\\Users\\creeperpandatrex\\Documents\\1000genomes\\DATA\\38.p14\\CHROMOSOME-22\n",
    "# print(os.getenv('SEED'))\n"
   ]
  },
  {
   "cell_type": "code",
   "execution_count": 159,
   "metadata": {},
   "outputs": [
    {
     "name": "stdout",
     "output_type": "stream",
     "text": [
      "C:\\Users\\creeperpandatrex\\Documents\\1000genomes\\DATA\\38.p14\\CHROMOSOME-22\\nuccore-nc_000022.11.fasta\n",
      "\n",
      "NNNNNNNNNNNNNNNNNNNNNNNNNNNNNNNNNNNNNNNNNNNNNNNNNNNNGAATTCTTGT\n",
      "GTTTATA\n",
      "TAATAAGATGTCCTATAATTTCTGTTTGGAATATAAAATCAGCAACTAATATGTATTTTCAAA\n",
      "GCATTA\n",
      "TAAATACAGAGTGCTAAGTTACTTCACTGTGAAATGTAGTCATATAAAGAACATAATAATTATA\n",
      "CTGGA\n"
     ]
    }
   ],
   "source": [
    "### Delete newlines\n",
    "def removeNewLinez(myPath):\n",
    "    print(myPath)\n",
    "    obj = open(myPath, 'r')\n",
    "    counter = 0\n",
    "    build = ''\n",
    "    print(obj.read(0))\n",
    "    obj.read(10510080)\n",
    "    obj.read(70000)\n",
    "    obj.read(70000)\n",
    "    obj.read(7000)\n",
    "    obj.read(700)\n",
    "    obj.read(1400)\n",
    "    obj.read(140)\n",
    "    obj.read(140)\n",
    "    obj.read(140)\n",
    "    obj.read(140)\n",
    "    obj.read(140)\n",
    "    obj.read(140)\n",
    "    obj.read(140)\n",
    "\n",
    "    \n",
    "    print(obj.read(70))\n",
    "    print(obj.read(70))\n",
    "    print(obj.read(70))\n",
    "\n",
    "    # for x in obj:\n",
    "    #     build += x.strip()\n",
    "    return build\n",
    "myObj = removeNewLinez(inputPath + inputFile)\n",
    "\n"
   ]
  },
  {
   "cell_type": "code",
   "execution_count": 160,
   "metadata": {},
   "outputs": [
    {
     "name": "stdout",
     "output_type": "stream",
     "text": [
      "0\n"
     ]
    },
    {
     "ename": "IndexError",
     "evalue": "string index out of range",
     "output_type": "error",
     "traceback": [
      "\u001b[1;31m---------------------------------------------------------------------------\u001b[0m",
      "\u001b[1;31mIndexError\u001b[0m                                Traceback (most recent call last)",
      "Cell \u001b[1;32mIn[160], line 5\u001b[0m\n\u001b[0;32m      1\u001b[0m \u001b[38;5;28mprint\u001b[39m(\u001b[38;5;28mlen\u001b[39m(myObj))\n\u001b[0;32m      3\u001b[0m \u001b[38;5;66;03m### read from 0 to start\u001b[39;00m\n\u001b[1;32m----> 5\u001b[0m \u001b[38;5;28mprint\u001b[39m(\u001b[43mmyObj\u001b[49m\u001b[43m[\u001b[49m\u001b[38;5;241;43m18150168\u001b[39;49m\u001b[43m]\u001b[49m)\n\u001b[0;32m      6\u001b[0m \u001b[38;5;28mprint\u001b[39m(myObj[\u001b[38;5;241m18150169\u001b[39m])\n\u001b[0;32m      7\u001b[0m \u001b[38;5;28mprint\u001b[39m(myObj[\u001b[38;5;241m18150170\u001b[39m])\n",
      "\u001b[1;31mIndexError\u001b[0m: string index out of range"
     ]
    }
   ],
   "source": [
    "print(len(myObj))\n",
    "\n",
    "### read from 0 to start\n",
    "\n",
    "print(myObj[18150168])\n",
    "print(myObj[18150169])\n",
    "print(myObj[18150170])\n",
    "print(myObj[18150171])\n",
    "print(myObj[18150172])\n",
    "\n",
    "print()\n",
    "\n",
    "print(myObj[18177390])\n",
    "print(myObj[18177391])\n",
    "print(myObj[18177392])\n",
    "print(myObj[18177393])\n",
    "print(myObj[18177394])\n",
    "print(myObj[18177395])\n",
    "print(myObj[18177396])\n"
   ]
  },
  {
   "cell_type": "code",
   "execution_count": null,
   "metadata": {},
   "outputs": [],
   "source": [
    "### Delete newlines\n",
    "def removeNewLinez(myPath):\n",
    "    print(myPath)\n",
    "    obj = open(myPath, 'r')\n",
    "    counter = 0\n",
    "    build = ''\n",
    "    (obj.read(10660000))\n",
    "    (obj.read(12))\n",
    "   \n",
    "    \n",
    "    print(obj.read(70))\n",
    "    print(obj.read(70))\n",
    "    print(obj.read(70))\n",
    "\n",
    "    # for x in obj:\n",
    "    #     build += x.strip()\n",
    "    return build\n",
    "myObj = removeNewLinez(inputPath + inputFile)\n",
    "\n"
   ]
  },
  {
   "cell_type": "markdown",
   "metadata": {},
   "source": [
    "# Coordidnates\n",
    "1. NC_000022.11 at line 150144 : NNNNNNNNNNNNNgaattcttgt\n",
    "1. line 150145: gtttatataa\n",
    "1. USP18 gene: line 255638 + 12 : agg tga aca gaa aat\n",
    "1. which gives 255638 x 70 + 12 = 17894672"
   ]
  },
  {
   "cell_type": "code",
   "execution_count": 183,
   "metadata": {},
   "outputs": [
    {
     "name": "stdout",
     "output_type": "stream",
     "text": [
      "C:\\Users\\creeperpandatrex\\Documents\\1000genomes\\DATA\\38.p14\\CHROMOSOME-22\\nuccore-nc_000022.11.fasta\n",
      "GAGGCCGAGGCCAGCAGATGGCTTAAGGCTAGGAGTTTGAGACCAGTCTGGGAAACACAGGGAGGCCTC\n",
      "GTCTCTACAAAAAATTTAAAAATTAGCTGTAGTCCCAGCTACTTGGGAGGCTGAAGTGGGAGGATCCCTT\n",
      "GAGACCAGGAAGTCAAAGCTTCAGTGAGCTGAGATAGTGCCACCACACCCCAGAGAGCCTGGGCAACAA\n",
      "A\n",
      "GCAAGACTCTGTCTCAAAAAAAAAAAAAAAGAAAAAAGAAAAGAGAGAAAAAATTAGTTACTCGGTCA\n",
      "TG\n",
      "GAGGTCCCTCTAAGAGTCTCGGTTGGACTACTAATAATGCTGCCTCTTAACAGAAGGCCTAAAGGTA\n",
      "TAA\n",
      "ACTTCAAGTAGAAGGTGAACAGAAAATTACACTAGGGGCCAGGCACGGTGGGCAGATCACAAGGTC\n",
      "AGGA\n",
      "GTTCAAGACCAGCCTGACCAACACAGTGAAACCCCATCTCTACTAAAAATACAAAAATTAGCCAG\n"
     ]
    }
   ],
   "source": [
    "### Delete newlines\n",
    "def removeNewLinez(myPath):\n",
    "    print(myPath)\n",
    "    obj = open(myPath, 'r')\n",
    "    counter = 0\n",
    "    build = ''\n",
    "    (obj.read(17894672)) # (25538 * 70 ) + 12\n",
    "    (obj.read(252000))\n",
    "    (obj.read(3200))\n",
    "   \n",
    "    \n",
    "    print(obj.read(210))\n",
    "    print(obj.read(70))\n",
    "    print(obj.read(70)) # difference of 255620 characters, possibly the number of chars in first line\n",
    "    print(obj.read(70))  # it corresponds to 255638 line in the file\n",
    "    print(obj.read(70))\n",
    "\n",
    "    # for x in obj:\n",
    "    #     build += x.strip()\n",
    "    return build\n",
    "myObj = removeNewLinez(inputPath + inputFile)\n",
    "\n"
   ]
  },
  {
   "cell_type": "code",
   "execution_count": 184,
   "metadata": {},
   "outputs": [
    {
     "name": "stdout",
     "output_type": "stream",
     "text": [
      "C:\\Users\\creeperpandatrex\\Documents\\1000genomes\\DATA\\38.p14\\CHROMOSOME-22\\nuccore-nc_000022.11.fasta\n",
      ">NC_000022.11 Homo sapiens chromosome 22, GRCh38.p14 Primary Assembly\n",
      "NNNNNNNNNNNNNNNNNNNNNNNNNNNNNNNNNNNNNNNNNNNNNNNNNN\n"
     ]
    }
   ],
   "source": [
    "### Delete newlines\n",
    "def removeNewLinez(myPath):\n",
    "    print(myPath)\n",
    "    obj = open(myPath, 'r')\n",
    "    counter = 0\n",
    "    build = ''\n",
    "    print(obj.read(120))\n",
    "\n",
    "    # for x in obj:\n",
    "    #     build += x.strip()\n",
    "    return build\n",
    "myObj = removeNewLinez(inputPath + inputFile)\n",
    "\n"
   ]
  },
  {
   "cell_type": "markdown",
   "metadata": {},
   "source": [
    "## Something wrong with the reference coordinates. \n",
    "Check the hash\n",
    "\n",
    "Also, apply not just the start/stop coordinates but also match the beginning of the sequence\n",
    "\n",
    "Pending to do the same but with a format where there are not newlines\n"
   ]
  }
 ],
 "metadata": {
  "kernelspec": {
   "display_name": "fox-conda",
   "language": "python",
   "name": "python3"
  },
  "language_info": {
   "codemirror_mode": {
    "name": "ipython",
    "version": 3
   },
   "file_extension": ".py",
   "mimetype": "text/x-python",
   "name": "python",
   "nbconvert_exporter": "python",
   "pygments_lexer": "ipython3",
   "version": "3.12.3"
  }
 },
 "nbformat": 4,
 "nbformat_minor": 2
}
