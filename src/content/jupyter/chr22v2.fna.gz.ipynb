{
 "cells": [
  {
   "cell_type": "markdown",
   "metadata": {},
   "source": [
    "# Chromosome 22 - version2 \n",
    "## It contains the correct 5'3'primer sequences and the right coordinates\n"
   ]
  },
  {
   "cell_type": "markdown",
   "metadata": {},
   "source": [
    "## 9.5.2024 (m.d.y)"
   ]
  },
  {
   "cell_type": "markdown",
   "metadata": {},
   "source": [
    "### Chromosome assemblies\n",
    "\n",
    "1. [https://ftp.ncbi.nlm.nih.gov/genomes/all/GCF/000/001/405/GCF_000001405.40_GRCh38.p14/38p14_assembly_structure/Primary_Assembly/assembled_chromosomes/FASTA/](https://ftp.ncbi.nlm.nih.gov/genomes/all/GCF/000/001/405/GCF_000001405.40_GRCh38.p14/GCF_000001405.40_GRCh38.p14_assembly_structure/Primary_Assembly/assembled_chromosomes/FASTA/)"
   ]
  },
  {
   "cell_type": "code",
   "execution_count": 2,
   "metadata": {},
   "outputs": [],
   "source": [
    "# GLOBALS\n",
    "import sys\n",
    "import json\n",
    "import gzip\n",
    "from hashlib import sha256\n",
    "import os\n",
    "\n",
    "inputPath = 'C:\\\\Users\\\\creeperpandatrex\\\\Documents\\\\1000genomes\\\\DATA\\\\GCF000001405-38p14-assembly\\\\'\n",
    "chrom22 = \"chr22.fna.gz\"\n",
    "inputFile = chrom22"
   ]
  },
  {
   "cell_type": "code",
   "execution_count": 6,
   "metadata": {},
   "outputs": [
    {
     "name": "stdout",
     "output_type": "stream",
     "text": [
      "<_io.TextIOWrapper name='C:\\\\Users\\\\creeperpandatrex\\\\Documents\\\\1000genomes\\\\DATA\\\\GCF000001405-38p14-assembly\\\\chr22.fna.gz' encoding='utf-8'>\n",
      "<class 'str'>\n"
     ]
    }
   ],
   "source": [
    "# my is a string of chromosome 'NN' fasta files with 80 char per line to fasta with 2 lines ONLY\n",
    "CURRENT_CHROMO = 22\n",
    "def fasta2one (myPath):\n",
    "    with myPath as file:\n",
    "        build = ''\n",
    "        counter = 0\n",
    "        print(myPath)\n",
    "        for i in file:\n",
    "            if counter != 0: # it gets rid of the first line with the header (number of chars is one nucl different)\n",
    "                build += i.strip() # it builds the pure sequence without extra chars: only A G T C N\n",
    "            counter = 1\n",
    "        return build\n",
    "\n",
    "# my = fasta2one(gzip.open(inputPath + inputFile, 'rt')) # 6.27.2024 __23__ minutes ?\n",
    "my = fasta2one(gzip.open(inputPath + chrom22, 'rt')) # 9.4.2024 (m.d.y) in 58 seconds or 1 min 48 sec after adding the if statement\n",
    "\n",
    "print(type(my)) # <class 'str'> fasta2one is a string of ONLY nucleotides, no header\n"
   ]
  },
  {
   "cell_type": "code",
   "execution_count": null,
   "metadata": {},
   "outputs": [],
   "source": [
    "buildHeader = '' # header no more since added if statement in cell 6\n",
    "index = 0\n",
    "for i in my:\n",
    "    buildHeader += my[index]\n",
    "    if index == 68:  # N's start from 69 longest and 68 shortest\n",
    "        break\n",
    "    index += 1\n",
    "print(len(my)) # 50,818,537 50,818,468\n",
    "print(buildHeader)"
   ]
  },
  {
   "cell_type": "code",
   "execution_count": 10,
   "metadata": {},
   "outputs": [
    {
     "name": "stdout",
     "output_type": "stream",
     "text": [
      "C:\\Users\\creeperpandatrex\\Documents\\1000genomes\\DATA\\GCF000001405-38p14-assembly\\awk_ID_symbol_start_end_chr_22\n",
      "1523\n",
      "1329\n",
      "('29775', 'CARD10', '37490362', '37519415')\n",
      "('123706513', 'TRABD-AS1', '50199088', '50200783')\n",
      "('105373100', 'LOC105373100', '50735829', '50738169')\n",
      "('29796', 'UQCR10', '29767369', '29770413')\n",
      "('6663', 'SOX10', '37972312', '37984555')\n",
      "('100421121', 'LOC100421121', '20639072', '20650483')\n",
      "('102723780', 'FRG1FP', '10940597', '10961529')\n",
      "('117134598', 'FAM246A', '21359596', '21361299')\n",
      "('105373031', 'LOC105373031', '38570500', '38571358')\n",
      "('150165', 'XKR3', '16783480', '16825411')\n"
     ]
    }
   ],
   "source": [
    "# tmp list from set of grep_gene to remove duplicates\n",
    "myLocal = inputPath + 'awk_ID_symbol_start_end_chr_' + str(CURRENT_CHROMO) # chromosome 22\n",
    "def idSymbolBuildSet(myPath):\n",
    "    print(myPath)\n",
    "    myList = []\n",
    "    obj = open(myPath, 'r')\n",
    "    for i in obj:\n",
    "        local = i.split()\n",
    "        myList.append(local)\n",
    "        local = []\n",
    "    print(len(myList)) # 1523\n",
    "    mySet = set(tuple(i) for i in myList) # remove duplicates 1523 - 1329 = \n",
    "    set2list = list(mySet) # reconvert to a list not a set anymore \n",
    "    return set2list\n",
    "\n",
    "tmp = idSymbolBuildSet(myLocal) # it is now a list (array)\n",
    "print(len(tmp))\n",
    "\n",
    "myRange = 10\n",
    "counter = 0\n",
    "for i in range(myRange):\n",
    "    print(tmp[counter])\n",
    "    counter += 1\n",
    "\n",
    "# https://stackoverflow.com/questions/26783326/how-to-make-a-set-of-listslist\n",
    "# >>> l = [[1, 2, 3], [2, 4, 5], [1, 2, 3], [2, 4, 5]]\n",
    "# >>> set(tuple(i) for i in l)\n",
    "# {(1, 2, 3), (2, 4, 5)}"
   ]
  },
  {
   "cell_type": "code",
   "execution_count": 16,
   "metadata": {},
   "outputs": [
    {
     "name": "stdout",
     "output_type": "stream",
     "text": [
      "4\n",
      "183959\n"
     ]
    }
   ],
   "source": [
    "def processChrWithIdSymbolSanityCheck():\n",
    "    myListOfDicMap = [] # array of {'fourTuple': localTuple, 'fourTupleHash':localTupleHash}\n",
    "    myListIdSymbSeqHash = [] # array of { localTupleHash : seqHash }\n",
    "    sanityCheck = [] # List of sequence nucleotides at each gene position\n",
    "    primer = ''\n",
    "    for i in range(len(tmp)): # list to set to list to remove duplicates, now it is a list-array\n",
    "        localArray = []\n",
    "        mySeed = os.getenv('SEED')\n",
    "        myDicMap = {}\n",
    "        myDicTupleSeqHash = {} # { localTupleHash:seqHash }\n",
    "        localTuple = tmp[i]\n",
    "        localTupleHash = sha256((convertTuple(localTuple) + mySeed).encode()).hexdigest()\n",
    "        myDicMap.update({'fourTuple':localTuple, 'fourTupleHash':localTupleHash})\n",
    "        myListOfDicMap.append(myDicMap)\n",
    "        seqHash = buildSeqHash(localTuple, mySeed) # [myseqhash, myseq], \n",
    "        myDicTupleSeqHash.update( {localTupleHash: seqHash[0] })\n",
    "        # print(type(seqHash[1]))\n",
    "        seqSize = len(seqHash[1])\n",
    "        # print('>'+str(localTuple)+'\\t'+str(seqSize)+'\\n')\n",
    "        primer += '>'+str(localTuple)+'\\t'+str(seqSize)+'\\n'\n",
    "        first = ''\n",
    "        last = ''\n",
    "        counter = 0\n",
    "        if len(seqHash[1]) > 40:\n",
    "            for j in range(40):\n",
    "                first += seqHash[1][counter]\n",
    "                counter += 1\n",
    "            localArray.append(first)\n",
    "        counter =  -40\n",
    "        if len(seqHash[1]) > 40:\n",
    "            for k in range(40):\n",
    "                last += (seqHash[1][counter])\n",
    "                counter += 1\n",
    "            localArray.append(last)\n",
    "        # print(first+'..'+len(seqHash)+'..'+last)   #### PRINT\n",
    "        # print(first+'....'+last)   #########  PRINT\n",
    "        primer += first+'....'+last+'\\n'\n",
    "        sanityCheck.append(seqHash[1])\n",
    "        myListIdSymbSeqHash.append(myDicTupleSeqHash)\n",
    "    return [myListOfDicMap, myListIdSymbSeqHash, sanityCheck, primer]    \n",
    "    \n",
    "def print2file (myPath, result):\n",
    "    out = open(myPath, 'w')\n",
    "    out.write(result) # it must be a string\n",
    "\n",
    "def buildSeqHash(tuple, mySeed):\n",
    "    mySeq = ''\n",
    "    id,symb,start,end = tuple\n",
    "    start = int(start) - 1\n",
    "    end = int(end) \n",
    "    # counter = start + 80\n",
    "    # counter = start + inputIndex[CURRENT_CHROMO]\n",
    "    counter = start\n",
    "    for i in range(end - start):\n",
    "        mySeq += my[counter] # it is a string of nucleotides from chromosome22 MY MY MY MY MY\n",
    "        counter += 1\n",
    "    mySeqHash = sha256(((mySeq+mySeed)).encode()).hexdigest()\n",
    "    return [mySeqHash, mySeq] # both string\n",
    "\n",
    "\n",
    "# print(buildSeq(processing[0]['fourTuple']))\n",
    "        \n",
    "def convertTuple(tup):  # the hashing command accepts only strings\n",
    "    str = ''.join(tup)\n",
    "    return str\n",
    "\n",
    "processing = processChrWithIdSymbolSanityCheck()\n",
    "print(len(processing)) # 4; 2 minutes\n",
    "\n",
    "\n",
    "\n",
    "counter = 0\n",
    "# for i in range(1):\n",
    "    # print(processing[0][counter]) # ext: labelmap array of { 'fourTuple': (id,symb,start,end), 'fourTupleHash': hash } \n",
    "    # print(processing[1][counter]) # ext: labelseqhash array of { fourTuplehash: seqHash }\n",
    "    # print(processing[2][counter]) # gene sequence in array\n",
    "    # print(len(processing[3])) # primer string not a real array\n",
    "\n",
    "    # counter += 1\n",
    "\n",
    "# {'fourTuple': ('105373037', 'LOC105373037', '40555177', '40564466'), 'fourTupleHash': 'b1514454efb34d796e695624a103c9a5b4727f09df995728389633123747a653'}\n",
    "# {'fourTuple': ('339685', 'LOC339685', '47345571', '47373541'), 'fourTupleHash': 'b5c159d961591a4e83f3726b4933d92890392c769b28c825c4bc0b2d05bca5d8'}\n"
   ]
  },
  {
   "cell_type": "code",
   "execution_count": 22,
   "metadata": {},
   "outputs": [
    {
     "name": "stdout",
     "output_type": "stream",
     "text": [
      ">('29775', 'CARD10', '37490362', '37519415')\t29054\n",
      "TCTATGACAAAAGTGTTTAATGCTCCATAATGTGCAGCTT....CCGCACTCGGGCGGCGGCTCCGCCGGCGCAGGGGGGCGGT\n",
      ">('123706513', 'TRABD-AS1', '50199088', '50200783')\t1696\n",
      "TCTTTTACTCAGGTAAT\n"
     ]
    }
   ],
   "source": [
    "def printCharOfString(theStr, num):\n",
    "    build = ''\n",
    "    for i in range(num):\n",
    "        build += theStr[i]\n",
    "    print(build)\n",
    "\n",
    "printCharOfString(processing[3], 210)"
   ]
  },
  {
   "cell_type": "code",
   "execution_count": 23,
   "metadata": {},
   "outputs": [
    {
     "name": "stdout",
     "output_type": "stream",
     "text": [
      "C:\\Users\\creeperpandatrex\\Documents\\1000genomes\\DATA\\GCF000001405-38p14-assembly\\chr22.fna.gz\n"
     ]
    }
   ],
   "source": [
    "# \n",
    "# print2file(inputPath + inputFile + \".labelmap\", json.dumps(dict2hash(globalDictionary)[0]))\n",
    "# print2file(inputPath + inputFile + \".labelseqhash\", json.dumps(dict2hash(globalDictionary)[1]))\n",
    "result = processing\n",
    "\n",
    "def print2file (myPath, result):\n",
    "    out = open(myPath, 'w')\n",
    "    out.write(result) # it must be a string\n",
    "\n",
    "def print2gz (myPath, result, addExt):\n",
    "   with gzip.open(myPath + addExt, 'w') as f:\n",
    "    f.write((json.dumps(result)).encode()) # no decode() since it is a str already\n",
    "\n",
    "print(inputPath+inputFile)\n",
    "print2gz(inputPath + inputFile + 'v2', result[0], '.labelmap.gz')\n",
    "print2gz(inputPath + inputFile + 'v2', result[1], '.labelseqhash.gz')"
   ]
  },
  {
   "cell_type": "code",
   "execution_count": 21,
   "metadata": {},
   "outputs": [
    {
     "name": "stdout",
     "output_type": "stream",
     "text": [
      "1329\n",
      "C:\\Users\\creeperpandatrex\\Documents\\1000genomes\\DATA\\GCF000001405-38p14-assembly\\chr22.fna.gz\n"
     ]
    }
   ],
   "source": [
    "### this is SANITY CHECK  \n",
    "### processing[0] is .labelmap list of dics json\n",
    "### processing[1] is  .labelseqhash list of dics json\n",
    "### processing[2] is .fna.gene array of sequences from gene\n",
    "### processing[3] is .primer string 2 lines \n",
    "\n",
    "print(len(processing[2])) # 1329\n",
    "\n",
    "print(inputPath+inputFile)\n",
    "\n",
    "print2file(inputPath+inputFile+'.primer', processing[3])\n",
    "# print2file(inputPath+inputFile+'.fna.gene', json.dumps(processing[2]))  # TOO BIG"
   ]
  },
  {
   "cell_type": "code",
   "execution_count": 24,
   "metadata": {},
   "outputs": [
    {
     "name": "stdout",
     "output_type": "stream",
     "text": [
      "1329\n"
     ]
    }
   ],
   "source": [
    "print(len(processing[2]))"
   ]
  }
 ],
 "metadata": {
  "kernelspec": {
   "display_name": "fox-conda",
   "language": "python",
   "name": "python3"
  },
  "language_info": {
   "codemirror_mode": {
    "name": "ipython",
    "version": 3
   },
   "file_extension": ".py",
   "mimetype": "text/x-python",
   "name": "python",
   "nbconvert_exporter": "python",
   "pygments_lexer": "ipython3",
   "version": "3.12.3"
  }
 },
 "nbformat": 4,
 "nbformat_minor": 2
}
