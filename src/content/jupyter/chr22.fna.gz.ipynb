{
 "cells": [
  {
   "cell_type": "code",
   "execution_count": null,
   "metadata": {},
   "outputs": [],
   "source": []
  },
  {
   "cell_type": "markdown",
   "metadata": {},
   "source": [
    "# Chromosome assemblies\n",
    "\n",
    "1. [https://ftp.ncbi.nlm.nih.gov/genomes/all/GCF/000/001/405/GCF_000001405.40_GRCh38.p14/38p14_assembly_structure/Primary_Assembly/assembled_chromosomes/FASTA/](https://ftp.ncbi.nlm.nih.gov/genomes/all/GCF/000/001/405/GCF_000001405.40_GRCh38.p14/GCF_000001405.40_GRCh38.p14_assembly_structure/Primary_Assembly/assembled_chromosomes/FASTA/)"
   ]
  },
  {
   "cell_type": "markdown",
   "metadata": {},
   "source": [
    "### Problems\n",
    "1. Coordinates did not correspond to the nuccore sequencce on ncbi site\n",
    "1. Test this version\n",
    "1. https://ftp.ncbi.nlm.nih.gov/genomes/all/GCF/000/001/405/GCF_000001405.40_GRCh38.p14/GCF_000001405.40_GRCh38.p14_assembly_structure/Primary_Assembly/assembled_chromosomes/FASTA/"
   ]
  },
  {
   "cell_type": "code",
   "execution_count": 3,
   "metadata": {},
   "outputs": [],
   "source": [
    "# GLOBALS\n",
    "import sys\n",
    "import json\n",
    "import gzip\n",
    "from hashlib import sha256\n",
    "import os\n",
    "from dotenv import load_dotenv\n",
    "\n",
    "inputPath = 'C:\\\\Users\\\\creeperpandatrex\\\\Documents\\\\1000genomes\\\\DATA\\\\38.p14\\\\CHROMOSOME-22\\\\'\n",
    "# inputFile = 'nuccore-nc_000022.11.fasta'\n",
    "inputFile = 'chr22.fna.gz'\n",
    "# C:\\Users\\creeperpandatrex\\Documents\\1000genomes\\DATA\\38.p14\\CHROMOSOME-22\n",
    "# print(os.getenv('SEED'))\n"
   ]
  },
  {
   "cell_type": "markdown",
   "metadata": {},
   "source": [
    "## Algorithm\n",
    "1. read the gz file using fasta2one(gzip.open(inputpath+inputFile, 'rt)) syntax"
   ]
  },
  {
   "cell_type": "code",
   "execution_count": null,
   "metadata": {},
   "outputs": [],
   "source": [
    "def fasta2one (myPath):\n",
    "    with myPath as file:\n",
    "        build = ''\n",
    "        print(myPath)\n",
    "        for i in file:\n",
    "            build += i.strip()\n",
    "        return build\n",
    "\n",
    "my = fasta2one(gzip.open(inputPath + inputFile, 'rt'))\n",
    "\n",
    "print(type(my))\n"
   ]
  },
  {
   "cell_type": "code",
   "execution_count": null,
   "metadata": {},
   "outputs": [],
   "source": [
    "print(len(my))\n",
    "idSymbol = [11274, 'USP18']\t\n",
    "start = 18150170\t\n",
    "end = 18177397 + 1\n",
    "# =========\n",
    "idSymbol = [503637, 'DUXAP8']\n",
    "start = 15784954\n",
    "end = 15827434 + 1\n",
    "# =================\n",
    "counter  = start + 80\n",
    "build = ''\n",
    "for i in range(end - start):\n",
    "    build += (my[counter])\n",
    "    counter += 1\n",
    "\n",
    "print(build)"
   ]
  },
  {
   "cell_type": "markdown",
   "metadata": {},
   "source": [
    "## Algorithm\n",
    "\n",
    "1. read chrNUMB.fna.gz, output.strip(); output as string\n",
    "1. read file:///C:/Users/creeperpandatrex/Documents/1000genomes/DATA/38.p14/awk_ID_symbol_start_end_chr_22, \n",
    "1. the file was obtained by selecting only genes-chr22 from feature list of whole genome.\n",
    "1. as list per line [id, symbol, start, end]\n",
    "1. build a set to eliminate duplicates\n",
    "1. with both files \n",
    "    1. read [id,symbol,start,end] from one file\n",
    "    1. extract sequence using start, end+1, end-start, with counter equal to start\n",
    "    1. hash the built sequence\n",
    "    1. save idSymbol-map-to-idSymbolHash and idSymbolHash-map-to-buildSeqHash (maybe two or three)\n",
    "    1. save as [{ 'idSymbHash': 'buildSeqHash'}, {}, {}, ....]\n",
    "1. Upload sequence\n",
    "1. done"
   ]
  },
  {
   "cell_type": "code",
   "execution_count": null,
   "metadata": {},
   "outputs": [],
   "source": [
    "myLocal = 'C:\\\\Users\\\\creeperpandatrex\\\\Documents\\\\1000genomes\\\\DATA\\\\38.p14\\\\awk_ID_symbol_start_end_chr_22'\n",
    "def idSymbolBuildSet(myPath):\n",
    "    print(myPath)\n",
    "    myList = []\n",
    "    obj = open(myPath, 'r')\n",
    "    for i in obj:\n",
    "        local = i.split()\n",
    "        myList.append(local)\n",
    "        local = []\n",
    "    print(len(myList)) # 1523\n",
    "    mySet = set(tuple(i) for i in myList) # remove duplicates 1329\n",
    "    set2list = list(mySet)\n",
    "    return set2list\n",
    "\n",
    "tmp = idSymbolBuildSet(myLocal)\n",
    "print(len(tmp))\n",
    "\n",
    "myRange = 10\n",
    "counter = 0\n",
    "for i in range(myRange):\n",
    "    print(tmp[counter])\n",
    "    counter += 1\n",
    "\n",
    "# https://stackoverflow.com/questions/26783326/how-to-make-a-set-of-listslist\n",
    "# >>> l = [[1, 2, 3], [2, 4, 5], [1, 2, 3], [2, 4, 5]]\n",
    "# >>> set(tuple(i) for i in l)\n",
    "# {(1, 2, 3), (2, 4, 5)}"
   ]
  },
  {
   "cell_type": "markdown",
   "metadata": {},
   "source": [
    "### Two files\n",
    "1. chr22 as string my\n",
    "1. idSymbol with start and end coordinates tmp is a list of 4 tuples\n",
    "1. tmp = [ (id,symbol,start,end), (), (), (), ......]\n",
    "1. hash all four, meaning each tuple"
   ]
  },
  {
   "cell_type": "code",
   "execution_count": 42,
   "metadata": {},
   "outputs": [
    {
     "name": "stdout",
     "output_type": "stream",
     "text": [
      "2\n"
     ]
    }
   ],
   "source": [
    "def processChrWithIdSymbol():\n",
    "    myListOfDicMap = []\n",
    "    myListIdSymbSeqHash = []\n",
    "    for i in range(len(tmp)):\n",
    "        mySeed = os.getenv('SEED')\n",
    "        myDicMap = {}\n",
    "        myDicTupleSeqHash = {}\n",
    "        localTuple = tmp[i]\n",
    "        localTupleHash = sha256((convertTuple(localTuple) + mySeed).encode()).hexdigest()\n",
    "        myDicMap.update({'fourTuple':localTuple, 'fourTupleHash':localTupleHash})\n",
    "        myListOfDicMap.append(myDicMap)\n",
    "        seqHash = buildSeqHash(localTuple, mySeed)\n",
    "        myDicTupleSeqHash.update( {localTupleHash: seqHash })\n",
    "        myListIdSymbSeqHash.append(myDicTupleSeqHash)\n",
    "    return [myListOfDicMap, myListIdSymbSeqHash]\n",
    "\n",
    "def buildSeqHash(tuple, mySeed):\n",
    "    mySeq = ''\n",
    "    id,symb,start,end = tuple\n",
    "    start = int(start) \n",
    "    end = int(end)  \n",
    "    counter = start + 80\n",
    "    for i in range(end - start + 1):\n",
    "        mySeq += my[i]\n",
    "        counter += 1\n",
    "    mySeqHash = sha256(((mySeq+mySeed)).encode()).hexdigest()\n",
    "    return mySeqHash\n",
    "\n",
    "\n",
    "# print(buildSeq(processing[0]['fourTuple']))\n",
    "        \n",
    "def convertTuple(tup):\n",
    "    str = ''.join(tup)\n",
    "    return str\n",
    "\n",
    "processing = processChrWithIdSymbol()\n",
    "print(len(processing)) # 2\n",
    "\n",
    "\n",
    "counter = 0\n",
    "for i in range(10):\n",
    "    print(processing[0][0])\n",
    "    print(processing[1][0])\n",
    "    counter += 1\n",
    "\n",
    "# {'fourTuple': ('105373037', 'LOC105373037', '40555177', '40564466'), 'fourTupleHash': 'b1514454efb34d796e695624a103c9a5b4727f09df995728389633123747a653'}\n",
    "# {'fourTuple': ('339685', 'LOC339685', '47345571', '47373541'), 'fourTupleHash': 'b5c159d961591a4e83f3726b4933d92890392c769b28c825c4bc0b2d05bca5d8'}\n"
   ]
  },
  {
   "cell_type": "code",
   "execution_count": null,
   "metadata": {},
   "outputs": [],
   "source": [
    "\n",
    "counter = 0\n",
    "for i in range(10):\n",
    "    print(processing[0][0])\n",
    "    print(processing[1][0])\n",
    "    counter += 1"
   ]
  },
  {
   "cell_type": "markdown",
   "metadata": {},
   "source": [
    "## Output\n",
    "1. processing is the    return [myListOfDicMap, myListIdSymbSeqHash]\n",
    "1. myListOfDicMap is [ {'fourTuple': '(id, symb, start, end)', 'fourTupleHash':'XXXXXXX'}, {}, {}, .....]\n",
    "1. myListIdSymbSeqHash is [ {fourTupleHash : geneSeqHash}, {'XXXXX' : 'XXXXXXX' }, {'XX':'XX'}, .... ]\n",
    "1. Process chromosome 22 3.2 seconds\n",
    "1. Compress and Write to disk object: processing []\n",
    "1. Pending sanity test with 5' 3' primers from each gene to confirm "
   ]
  },
  {
   "cell_type": "code",
   "execution_count": null,
   "metadata": {},
   "outputs": [],
   "source": [
    "## Saving into a file\n"
   ]
  },
  {
   "cell_type": "code",
   "execution_count": 46,
   "metadata": {},
   "outputs": [
    {
     "name": "stdout",
     "output_type": "stream",
     "text": [
      "C:\\Users\\creeperpandatrex\\Documents\\1000genomes\\DATA\\38.p14\\CHROMOSOME-22\\chr22.fna.gz\n"
     ]
    }
   ],
   "source": [
    "# \n",
    "# print2file(inputPath + inputFile + \".labelmap\", json.dumps(dict2hash(globalDictionary)[0]))\n",
    "# print2file(inputPath + inputFile + \".labelseqhash\", json.dumps(dict2hash(globalDictionary)[1]))\n",
    "result = processing\n",
    "def print2gz (myPath, result, addExt):\n",
    "   with gzip.open(myPath + addExt, 'w') as f:\n",
    "    f.write((json.dumps(result)).encode()) # no decode() since it is a str already\n",
    "\n",
    "print(inputPath+inputFile)\n",
    "print2gz(inputPath + inputFile, result[0], '.labelmap.gz')\n",
    "print2gz(inputPath + inputFile, result[1], '.labelseqhash.gz')"
   ]
  }
 ],
 "metadata": {
  "kernelspec": {
   "display_name": "fox-conda",
   "language": "python",
   "name": "python3"
  },
  "language_info": {
   "codemirror_mode": {
    "name": "ipython",
    "version": 3
   },
   "file_extension": ".py",
   "mimetype": "text/x-python",
   "name": "python",
   "nbconvert_exporter": "python",
   "pygments_lexer": "ipython3",
   "version": "3.12.3"
  }
 },
 "nbformat": 4,
 "nbformat_minor": 2
}
