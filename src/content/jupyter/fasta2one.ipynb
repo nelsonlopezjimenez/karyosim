{
 "cells": [
  {
   "cell_type": "markdown",
   "metadata": {},
   "source": [
    "# Python anaconda installation steps\n",
    "\n",
    "1. In ASUS laptop Task bar search unresponsive\n",
    "1. Found the Anaconda prompt in %appdata%\\Microsoft\\Windows\\Start Menu\\Anaconda3\n",
    "1. Opened it in base virenv\n",
    "1. conda create --name fox-conda\n",
    "1. conda activate fox-conda\n",
    "1. pip3 install \"somelibrary\"\n",
    "1. Tried to link this to fox-conda but it does not have python, needs to be installed \n",
    "1. OR\n",
    "1. Just run it!!\n",
    "1. import sys ||| print(sys.verstion) // 3.12.3 packaged by conda-forge ||| MSC v.1938 64 bit (AMD64)\n",
    "1. "
   ]
  },
  {
   "cell_type": "markdown",
   "metadata": {},
   "source": []
  },
  {
   "cell_type": "code",
   "execution_count": 4,
   "metadata": {},
   "outputs": [
    {
     "name": "stdout",
     "output_type": "stream",
     "text": [
      "3.12.3 | packaged by conda-forge | (main, Apr 15 2024, 18:20:11) [MSC v.1938 64 bit (AMD64)]\n"
     ]
    }
   ],
   "source": [
    "import sys\n",
    "print(sys.version)"
   ]
  },
  {
   "cell_type": "markdown",
   "metadata": {},
   "source": [
    "## Algorithm fasta to one\n",
    "\n",
    "1. Download/Read file content See [GCF_000001405.40_GRCh38.p14_protein.faa.gz](https://ftp.ncbi.nlm.nih.gov/genomes/refseq/vertebrate_mammalian/Homo_sapiens/all_assembly_versions/GCF_000001405.40_GRCh38.p14/)\n",
    "1. split by newline\n",
    "4. declare current obj and prev obj\n",
    "5. use splitLines array dot map and create new array fasta array. But it can be used with the returned array from map and then filter using if object not undefined return object.\n",
    "    1. if charAt(0) is '>' assign to previous what is in currentobj\n",
    "    1. reinitialize currentobj label to undefined and seq to \"\"\n",
    "    1. assign currentobj.label the current line (which starts with '>')\n",
    "    1. push previousobj to fasta array of objects {label:XXXX, seq: XXXXXX}\n",
    "    1. if charAt(0) is not '>' then\n",
    "    1. concatenate current line to current seq\n",
    "    1. continue until second to the last line (because there is one extra line added)\n",
    "    1. if second to last line: logout \" last line looping\", push currentobj\n",
    "1. write json obj and flat obj: json obj is in one line, flat obj is in 954907 lines"
   ]
  },
  {
   "cell_type": "code",
   "execution_count": 5,
   "metadata": {},
   "outputs": [
    {
     "name": "stdout",
     "output_type": "stream",
     "text": [
      "['c:\\\\Users\\\\creeperpandatrex\\\\anaconda3\\\\envs\\\\fox-conda\\\\python312.zip', 'c:\\\\Users\\\\creeperpandatrex\\\\anaconda3\\\\envs\\\\fox-conda\\\\DLLs', 'c:\\\\Users\\\\creeperpandatrex\\\\anaconda3\\\\envs\\\\fox-conda\\\\Lib', 'c:\\\\Users\\\\creeperpandatrex\\\\anaconda3\\\\envs\\\\fox-conda', '', 'C:\\\\Users\\\\creeperpandatrex\\\\AppData\\\\Roaming\\\\Python\\\\Python312\\\\site-packages', 'c:\\\\Users\\\\creeperpandatrex\\\\anaconda3\\\\envs\\\\fox-conda\\\\Lib\\\\site-packages', 'c:\\\\Users\\\\creeperpandatrex\\\\anaconda3\\\\envs\\\\fox-conda\\\\Lib\\\\site-packages\\\\win32', 'c:\\\\Users\\\\creeperpandatrex\\\\anaconda3\\\\envs\\\\fox-conda\\\\Lib\\\\site-packages\\\\win32\\\\lib', 'c:\\\\Users\\\\creeperpandatrex\\\\anaconda3\\\\envs\\\\fox-conda\\\\Lib\\\\site-packages\\\\Pythonwin']\n"
     ]
    }
   ],
   "source": [
    "print(sys.path)"
   ]
  },
  {
   "cell_type": "markdown",
   "metadata": {},
   "source": [
    "```sys.path```\n",
    "\n",
    "['c:\\\\Users\\\\creeperpandatrex\\\\anaconda3\\\\envs\\\\fox-conda\\\\python312.zip', 'c:\\\\Users\\\\creeperpandatrex\\\\anaconda3\\\\envs\\\\fox-conda\\\\DLLs', 'c:\\\\Users\\\\creeperpandatrex\\\\anaconda3\\\\envs\\\\fox-conda\\\\Lib', 'c:\\\\Users\\\\creeperpandatrex\\\\anaconda3\\\\envs\\\\fox-conda', '', 'C:\\\\Users\\\\creeperpandatrex\\\\AppData\\\\Roaming\\\\Python\\\\Python312\\\\site-packages', 'c:\\\\Users\\\\creeperpandatrex\\\\anaconda3\\\\envs\\\\fox-conda\\\\Lib\\\\site-packages', 'c:\\\\Users\\\\creeperpandatrex\\\\anaconda3\\\\envs\\\\fox-conda\\\\Lib\\\\site-packages\\\\win32', 'c:\\\\Users\\\\creeperpandatrex\\\\anaconda3\\\\envs\\\\fox-conda\\\\Lib\\\\site-packages\\\\win32\\\\lib', 'c:\\\\Users\\\\creeperpandatrex\\\\anaconda3\\\\envs\\\\fox-conda\\\\Lib\\\\site-packages\\\\Pythonwin']\n"
   ]
  },
  {
   "cell_type": "code",
   "execution_count": 8,
   "metadata": {},
   "outputs": [
    {
     "name": "stdout",
     "output_type": "stream",
     "text": [
      "Duration, Pulse, Maxpulse, Calories\n",
      "60,110,23,31\n",
      "242,12,42,4232\n",
      "12,323,42,23\n",
      "4,23,2,1\n",
      "424,2,1,32\n"
     ]
    }
   ],
   "source": [
    "f = open('data.csv', 'r')\n",
    "print(f.read())"
   ]
  },
  {
   "cell_type": "code",
   "execution_count": 11,
   "metadata": {},
   "outputs": [
    {
     "name": "stdout",
     "output_type": "stream",
     "text": [
      "0.5487008094787598 1382592\n"
     ]
    }
   ],
   "source": [
    "import gzip\n",
    "import time\n",
    "\n",
    "inFile = gzip.open('C:\\\\Users\\\\creeperpandatrex\\\\Documents\\\\1000genomes\\\\DATA\\\\GCF_000001405.40_GRCh38.p14_protein.faa.gz', 'rt')\n",
    "t0 = time.time()\n",
    "count = 0\n",
    "for line in inFile:\n",
    "    count += 1\n",
    "print(time.time() - t0, count) # 0.5487008094787598 1382592"
   ]
  },
  {
   "cell_type": "code",
   "execution_count": null,
   "metadata": {},
   "outputs": [
    {
     "name": "stdout",
     "output_type": "stream",
     "text": [
      "0.5487008094787598 1382592\n"
     ]
    }
   ],
   "source": [
    "import gzip\n",
    "import time\n",
    "\n",
    "inFile = gzip.open('C:\\\\Users\\\\creeperpandatrex\\\\Documents\\\\1000genomes\\\\DATA\\\\GCF_000001405.40_GRCh38.p14_protein.faa.gz', 'rt')\n",
    "t0 = time.time()\n",
    "count = 0\n",
    "for line in inFile:\n",
    "    count += 1\n",
    "print(time.time() - t0, count) # 0.5487008094787598 1382592"
   ]
  },
  {
   "cell_type": "markdown",
   "metadata": {},
   "source": [
    "## fasta2oneCount"
   ]
  },
  {
   "cell_type": "code",
   "execution_count": 18,
   "metadata": {},
   "outputs": [
    {
     "name": "stdout",
     "output_type": "stream",
     "text": [
      "[1382592, 136194, 1246398]\n"
     ]
    }
   ],
   "source": [
    "inputFile = 'C:\\\\Users\\\\creeperpandatrex\\\\Documents\\\\1000genomes\\\\DATA\\\\GCF_000001405.40_GRCh38.p14_protein.faa.gz'\n",
    "def fasta2oneCount (myPath):\n",
    "    with myPath as file:\n",
    "        countLine = 0\n",
    "        countAngle = 0\n",
    "        countNotAngle = 0\n",
    "        for line in file:\n",
    "            countLine += 1\n",
    "            if line[0]  == '>':\n",
    "                countAngle += 1\n",
    "            else:\n",
    "                countNotAngle += 1\n",
    "    # print(countAngle, countNotAngle, countAngle + countNotAngle, count)\n",
    "    return [count, countAngle, countNotAngle]\n",
    "\n",
    "result = fasta2oneCount(gzip.open(inputFile, 'rt'))\n",
    "\n",
    "print(result)"
   ]
  },
  {
   "cell_type": "code",
   "execution_count": 35,
   "metadata": {},
   "outputs": [
    {
     "name": "stdout",
     "output_type": "stream",
     "text": [
      "[136194, {'label': '>YP_003024037.1 NADH dehydrogenase subunit 6 (mitochondrion) [Homo sapiens]\\n', 'seq': 'MMYALFLLSVGLVMGFVGFSSKPSPIYGGLVLIVSGVVGCVIILNFGGGYMGLMVFLIYLGGMMVVFGYTTAMAIEEYPEAWGSGVEVLVSVLVGLAMEVGLVLWVKEYDGVVVVVNFNSVGSWMIYEGEGSGLIREDPIGAGALYDYGRWLVVVTGWTLFVGVYIVIEIARGN'}, {'label': '>YP_003024038.1 cytochrome b (mitochondrion) [Homo sapiens]\\n', 'seq': 'MTPMRKTNPLMKLINHSFIDLPTPSNISAWWNFGSLLGACLILQITTGLFLAMHYSPDASTAFSSIAHITRDVNYGWIIRYLHANGASMFFICLFLHIGRGLYYGSFLYSETWNIGIILLLATMATAFMGYVLPWGQMSFWGATVITNLLSAIPYIGTDLVQWIWGGYSVDSPTLTRFFTFHFILPFIIAALATLHLLFLHETGSNNPLGITSHSDKITFHPYYTIKDALGLLLFLLSLMTLTLFSPDLLGDPDNYTLANPLNTPPHIKPEWYFLFAYTILRSVPNKLGGVLALLLSILILAMIPILHMSKQQSMMFRPLSQSLYWLLAADLLILTWIGGQPVSYPFTIIGQVASVLYFTTILILMPTISLIENKMLKWA'}, 1246398]\n"
     ]
    }
   ],
   "source": [
    "def fasta2one (myPath):\n",
    "    with myPath as file:\n",
    "        countNoAngle = 0\n",
    "        fastaArr = []\n",
    "        currObj = {\"label\":'', \"seq\":''}\n",
    "        prevObj = {\"label\":'', \"seq\":''}\n",
    "        currSeq = \"\"\n",
    "        for line in file:\n",
    "            if line[0]  == '>':\n",
    "                currSeq = \"\"\n",
    "                prevObj = currObj\n",
    "                currObj = {\"label\":'', \"seq\":''}\n",
    "                currObj[\"label\"] = line\n",
    "                fastaArr.append(prevObj)\n",
    "            else:\n",
    "                countNoAngle += 1\n",
    "                currSeq += line.strip()\n",
    "                # oldLine = currObj[\"seq\"]\n",
    "                currObj.update({\"seq\": currSeq}) \n",
    "    # print(countAngle, countNotAngle, countAngle + countNotAngle, count)\n",
    "        return [len(fastaArr), prevObj, currObj, countNoAngle]\n",
    "\n",
    "print(fasta2one(gzip.open(inputFile, 'rt')))"
   ]
  },
  {
   "cell_type": "markdown",
   "metadata": {},
   "source": [
    "### output\n",
    "\n",
    "#### [len(fastaArr), prevObj, currObj]\n",
    "\n",
    "```\n",
    "print(fasta2one(gzip.open(inputFile, 'rt')))\n",
    "\n",
    "\n",
    "[\n",
    "    136194, \n",
    "    {    'label': '>YP_003024038.1 cytochrome b (mitochondrion) [Homo sapiens]\\n', 'seq': ''}\n",
    "    {    'label': '>YP_003024038.1 cytochrome b (mitochondrion) [Homo sapiens]\\n', 'seq': ''}, \n",
    "]\n",
    "\n",
    "[136194, {'label': '>YP_003024037.1 NADH dehydrogenase subunit 6 (mitochondrion) [Homo sapiens]\\n', 'seq': 'FVGVYIVIEIARGN\\n'}, {'label': '>YP_003024038.1 cytochrome b (mitochondrion) [Homo sapiens]\\n', 'seq': 'SQSLYWLLAADLLILTWIGGQPVSYPFTIIGQVASVLYFTTILILMPTISLIENKMLKWA\\n'}, 1246398]\n",
    "\n",
    "\n",
    "[136194, {'label': '>YP_003024037.1 NADH dehydrogenase subunit 6 (mitochondrion) [Homo sapiens]\\n', 'seq': 'MMYALFLLSVGLVMGFVGFSSKPSPIYGGLVLIVSGVVGCVIILNFGGGYMGLMVFLIYLGGMMVVFGYTTAMAIEEYPE\\nAWGSGVEVLVSVLVGLAMEVGLVLWVKEYDGVVVVVNFNSVGSWMIYEGEGSGLIREDPIGAGALYDYGRWLVVVTGWTL\\nFVGVYIVIEIARGN\\n'}, {'label': '>YP_003024038.1 cytochrome b (mitochondrion) [Homo sapiens]\\n', 'seq': 'MTPMRKTNPLMKLINHSFIDLPTPSNISAWWNFGSLLGACLILQITTGLFLAMHYSPDASTAFSSIAHITRDVNYGWIIR\\nYLHANGASMFFICLFLHIGRGLYYGSFLYSETWNIGIILLLATMATAFMGYVLPWGQMSFWGATVITNLLSAIPYIGTDL\\nVQWIWGGYSVDSPTLTRFFTFHFILPFIIAALATLHLLFLHETGSNNPLGITSHSDKITFHPYYTIKDALGLLLFLLSLM\\nTLTLFSPDLLGDPDNYTLANPLNTPPHIKPEWYFLFAYTILRSVPNKLGGVLALLLSILILAMIPILHMSKQQSMMFRPL\\nSQSLYWLLAADLLILTWIGGQPVSYPFTIIGQVASVLYFTTILILMPTISLIENKMLKWA\\n'}, 1246398]\n",
    "\n",
    "[136194, {'label': '>YP_003024037.1 NADH dehydrogenase subunit 6 (mitochondrion) [Homo sapiens]\\n', 'seq': 'MMYALFLLSVGLVMGFVGFSSKPSPIYGGLVLIVSGVVGCVIILNFGGGYMGLMVFLIYLGGMMVVFGYTTAMAIEEYPEAWGSGVEVLVSVLVGLAMEVGLVLWVKEYDGVVVVVNFNSVGSWMIYEGEGSGLIREDPIGAGALYDYGRWLVVVTGWTLFVGVYIVIEIARGN'}, {'label': '>YP_003024038.1 cytochrome b (mitochondrion) [Homo sapiens]\\n', 'seq': 'MTPMRKTNPLMKLINHSFIDLPTPSNISAWWNFGSLLGACLILQITTGLFLAMHYSPDASTAFSSIAHITRDVNYGWIIRYLHANGASMFFICLFLHIGRGLYYGSFLYSETWNIGIILLLATMATAFMGYVLPWGQMSFWGATVITNLLSAIPYIGTDLVQWIWGGYSVDSPTLTRFFTFHFILPFIIAALATLHLLFLHETGSNNPLGITSHSDKITFHPYYTIKDALGLLLFLLSLMTLTLFSPDLLGDPDNYTLANPLNTPPHIKPEWYFLFAYTILRSVPNKLGGVLALLLSILILAMIPILHMSKQQSMMFRPLSQSLYWLLAADLLILTWIGGQPVSYPFTIIGQVASVLYFTTILILMPTISLIENKMLKWA'}, 1246398]\n",
    "\n",
    "\n",
    "```"
   ]
  },
  {
   "cell_type": "markdown",
   "metadata": {},
   "source": [
    "## $ head GCF_000001405.40_GRCh38.p14_protein.faa\n",
    "\n",
    "### >NP_000005.3 alpha-2-macroglobulin isoform a precursor [Homo sapiens]\n",
    "\n",
    "MGKNKLLHPSLVLLLLVLLPTDASVSGKPQYMVLVPSLLHTETTEKGCVLLSYLNETVTVSASLESVRGNRSLFTDLEAE\n",
    "NDVLHCVAFAVPKSSSNEEVMFLTVQVKGPTQEFKKRTTVMVKNEDSLVFVQTDKSIYKPGQTVKFRVVSMDENFHPLNE\n",
    "LIPLVYIQDPKGNRIAQWQSFQLEGGLKQFSFPLSSEPFQGSYKVVVQKKSGGRTEHPFTVEEFVLPKFEVQVTVPKIIT\n",
    "ILEEEMNVSVCGLYTYGKPVPGHVTVSICRKYSDASDCHGEDSQAFCEKFSGQLNSHGCFYQQVKTKVFQLKRKEYEMKL\n",
    "HTEAQIQEEGTVVELTGRQSSEITRTITKLSFVKVDSHFRQGIPFFGQVRLVDGKGVPIPNKVIFIRGNEANYYSNATTD\n",
    "EHGLVQFSINTTNVMGTSLTVRVNYKDRSPCYGYQWVSEEHEEAHHTAYLVFSPSKSFVHLEPMSHELPCGHTQTVQAHY\n",
    "ILNGGTLLGLKKLSFYYLIMAKGGIVRTGTHGLLVKQEDMKGHFSISIPVKSDIAPVARLLIYAVLPTGDVIGDSAKYDV\n",
    "ENCLANKVDLSFSPSQSLPASHAHLRVTAAPQSVCALRAVDQSVLLMKPDAELSASSVYNLLPEKDLTGFPGPLNDQDNE\n",
    "DCINRHNVYINGITYTPVSSTNEKDMYSFLEDMGLKAFTNSKIRKPKMCPQLQQYEMHGPEGLRVGFYESDVMGRGHARL\n",
    "\n"
   ]
  },
  {
   "cell_type": "markdown",
   "metadata": {},
   "source": [
    "###  tail GCF_000001405.40_GRCh38.p14_protein.faa\n",
    "\n",
    "### >YP_003024037.1 NADH dehydrogenase subunit 6 (mitochondrion) [Homo sapiens]\n",
    "MMYALFLLSVGLVMGFVGFSSKPSPIYGGLVLIVSGVVGCVIILNFGGGYMGLMVFLIYLGGMMVVFGYTTAMAIEEYPE\n",
    "AWGSGVEVLVSVLVGLAMEVGLVLWVKEYDGVVVVVNFNSVGSWMIYEGEGSGLIREDPIGAGALYDYGRWLVVVTGWTL\n",
    "FVGVYIVIEIARGN\n",
    "\n",
    "### >YP_003024038.1 cytochrome b (mitochondrion) [Homo sapiens]\n",
    "MTPMRKTNPLMKLINHSFIDLPTPSNISAWWNFGSLLGACLILQITTGLFLAMHYSPDASTAFSSIAHITRDVNYGWIIR\n",
    "YLHANGASMFFICLFLHIGRGLYYGSFLYSETWNIGIILLLATMATAFMGYVLPWGQMSFWGATVITNLLSAIPYIGTDL\n",
    "VQWIWGGYSVDSPTLTRFFTFHFILPFIIAALATLHLLFLHETGSNNPLGITSHSDKITFHPYYTIKDALGLLLFLLSLM\n",
    "TLTLFSPDLLGDPDNYTLANPLNTPPHIKPEWYFLFAYTILRSVPNKLGGVLALLLSILILAMIPILHMSKQQSMMFRPL\n",
    "SQSLYWLLAADLLILTWIGGQPVSYPFTIIGQVASVLYFTTILILMPTISLIENKMLKWA\n"
   ]
  },
  {
   "cell_type": "markdown",
   "metadata": {},
   "source": [
    "## Algorithm fasta to one\n",
    "\n",
    "1. Download/Read file content See [GCF_000001405.40_GRCh38.p14_protein.faa.gz](https://ftp.ncbi.nlm.nih.gov/genomes/refseq/vertebrate_mammalian/Homo_sapiens/all_assembly_versions/GCF_000001405.40_GRCh38.p14/)\n",
    "1. split by newline\n",
    "4. declare current obj and prev obj\n",
    "5. use splitLines array dot map and create new array fasta array. But it can be used with the returned array from map and then filter using if object not undefined return object.\n",
    "    1. if charAt(0) is '>' assign to previous what is in currentobj\n",
    "    1. reinitialize currentobj label to undefined and seq to \"\"\n",
    "    1. assign currentobj.label the current line (which starts with '>')\n",
    "    1. push previousobj to fasta array of objects {label:XXXX, seq: XXXXXX}\n",
    "    1. if charAt(0) is not '>' then\n",
    "    1. concatenate current line to current seq\n",
    "    1. continue until second to the last line (because there is one extra line added)\n",
    "    1. if second to last line: logout \" last line looping\", push currentobj\n",
    "1. write json obj and flat obj: json obj is in one line, flat obj is in 954907 lines"
   ]
  }
 ],
 "metadata": {
  "kernelspec": {
   "display_name": "base",
   "language": "python",
   "name": "python3"
  },
  "language_info": {
   "codemirror_mode": {
    "name": "ipython",
    "version": 3
   },
   "file_extension": ".py",
   "mimetype": "text/x-python",
   "name": "python",
   "nbconvert_exporter": "python",
   "pygments_lexer": "ipython3",
   "version": "3.12.3"
  }
 },
 "nbformat": 4,
 "nbformat_minor": 2
}
