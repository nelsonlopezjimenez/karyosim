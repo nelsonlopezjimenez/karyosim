{
 "cells": [
  {
   "cell_type": "markdown",
   "metadata": {},
   "source": [
    "# Python anaconda installation steps\n",
    "\n",
    "1. In ASUS laptop Task bar search unresponsive\n",
    "1. Found the Anaconda prompt in %appdata%\\Microsoft\\Windows\\Start Menu\\Anaconda3\n",
    "1. Opened it in base virenv\n",
    "1. conda create --name fox-conda\n",
    "1. conda activate fox-conda\n",
    "1. pip3 install \"somelibrary\"\n",
    "1. Tried to link this to fox-conda but it does not have python, needs to be installed \n",
    "1. OR\n",
    "1. Just run it!!\n",
    "1. import sys ||| print(sys.verstion) // 3.12.3 packaged by conda-forge ||| MSC v.1938 64 bit (AMD64)\n",
    "1. "
   ]
  },
  {
   "cell_type": "markdown",
   "metadata": {},
   "source": []
  },
  {
   "cell_type": "code",
   "execution_count": 4,
   "metadata": {},
   "outputs": [
    {
     "name": "stdout",
     "output_type": "stream",
     "text": [
      "3.12.3 | packaged by conda-forge | (main, Apr 15 2024, 18:20:11) [MSC v.1938 64 bit (AMD64)]\n"
     ]
    }
   ],
   "source": [
    "import sys\n",
    "print(sys.version)"
   ]
  },
  {
   "cell_type": "markdown",
   "metadata": {},
   "source": [
    "## Algorithm fasta to one\n",
    "\n",
    "1. Download/Read file content See [GCF_000001405.40_GRCh38.p14_protein.faa.gz](https://ftp.ncbi.nlm.nih.gov/genomes/refseq/vertebrate_mammalian/Homo_sapiens/all_assembly_versions/GCF_000001405.40_GRCh38.p14/)\n",
    "1. split by newline\n",
    "4. declare current obj and prev obj\n",
    "5. use splitLines array dot map and create new array fasta array. But it can be used with the returned array from map and then filter using if object not undefined return object.\n",
    "    1. if charAt(0) is '>' assign to previous what is in currentobj\n",
    "    1. reinitialize currentobj label to undefined and seq to \"\"\n",
    "    1. assign currentobj.label the current line (which starts with '>')\n",
    "    1. push previousobj to fasta array of objects {label:XXXX, seq: XXXXXX}\n",
    "    1. if charAt(0) is not '>' then\n",
    "    1. concatenate current line to current seq\n",
    "    1. continue until second to the last line (because there is one extra line added)\n",
    "    1. if second to last line: logout \" last line looping\", push currentobj\n",
    "1. write json obj and flat obj: json obj is in one line, flat obj is in 954907 lines"
   ]
  },
  {
   "cell_type": "code",
   "execution_count": 5,
   "metadata": {},
   "outputs": [
    {
     "name": "stdout",
     "output_type": "stream",
     "text": [
      "['c:\\\\Users\\\\creeperpandatrex\\\\anaconda3\\\\envs\\\\fox-conda\\\\python312.zip', 'c:\\\\Users\\\\creeperpandatrex\\\\anaconda3\\\\envs\\\\fox-conda\\\\DLLs', 'c:\\\\Users\\\\creeperpandatrex\\\\anaconda3\\\\envs\\\\fox-conda\\\\Lib', 'c:\\\\Users\\\\creeperpandatrex\\\\anaconda3\\\\envs\\\\fox-conda', '', 'C:\\\\Users\\\\creeperpandatrex\\\\AppData\\\\Roaming\\\\Python\\\\Python312\\\\site-packages', 'c:\\\\Users\\\\creeperpandatrex\\\\anaconda3\\\\envs\\\\fox-conda\\\\Lib\\\\site-packages', 'c:\\\\Users\\\\creeperpandatrex\\\\anaconda3\\\\envs\\\\fox-conda\\\\Lib\\\\site-packages\\\\win32', 'c:\\\\Users\\\\creeperpandatrex\\\\anaconda3\\\\envs\\\\fox-conda\\\\Lib\\\\site-packages\\\\win32\\\\lib', 'c:\\\\Users\\\\creeperpandatrex\\\\anaconda3\\\\envs\\\\fox-conda\\\\Lib\\\\site-packages\\\\Pythonwin']\n"
     ]
    }
   ],
   "source": [
    "print(sys.path)"
   ]
  },
  {
   "cell_type": "markdown",
   "metadata": {},
   "source": [
    "```sys.path```\n",
    "\n",
    "['c:\\\\Users\\\\creeperpandatrex\\\\anaconda3\\\\envs\\\\fox-conda\\\\python312.zip', 'c:\\\\Users\\\\creeperpandatrex\\\\anaconda3\\\\envs\\\\fox-conda\\\\DLLs', 'c:\\\\Users\\\\creeperpandatrex\\\\anaconda3\\\\envs\\\\fox-conda\\\\Lib', 'c:\\\\Users\\\\creeperpandatrex\\\\anaconda3\\\\envs\\\\fox-conda', '', 'C:\\\\Users\\\\creeperpandatrex\\\\AppData\\\\Roaming\\\\Python\\\\Python312\\\\site-packages', 'c:\\\\Users\\\\creeperpandatrex\\\\anaconda3\\\\envs\\\\fox-conda\\\\Lib\\\\site-packages', 'c:\\\\Users\\\\creeperpandatrex\\\\anaconda3\\\\envs\\\\fox-conda\\\\Lib\\\\site-packages\\\\win32', 'c:\\\\Users\\\\creeperpandatrex\\\\anaconda3\\\\envs\\\\fox-conda\\\\Lib\\\\site-packages\\\\win32\\\\lib', 'c:\\\\Users\\\\creeperpandatrex\\\\anaconda3\\\\envs\\\\fox-conda\\\\Lib\\\\site-packages\\\\Pythonwin']\n"
   ]
  },
  {
   "cell_type": "code",
   "execution_count": 8,
   "metadata": {},
   "outputs": [
    {
     "name": "stdout",
     "output_type": "stream",
     "text": [
      "Duration, Pulse, Maxpulse, Calories\n",
      "60,110,23,31\n",
      "242,12,42,4232\n",
      "12,323,42,23\n",
      "4,23,2,1\n",
      "424,2,1,32\n"
     ]
    }
   ],
   "source": [
    "f = open('data.csv', 'r')\n",
    "print(f.read())"
   ]
  },
  {
   "cell_type": "code",
   "execution_count": 11,
   "metadata": {},
   "outputs": [
    {
     "name": "stdout",
     "output_type": "stream",
     "text": [
      "0.5487008094787598 1382592\n"
     ]
    }
   ],
   "source": [
    "import gzip\n",
    "import time\n",
    "\n",
    "inFile = gzip.open('C:\\\\Users\\\\creeperpandatrex\\\\Documents\\\\1000genomes\\\\DATA\\\\GCF_000001405.40_GRCh38.p14_protein.faa.gz', 'rt')\n",
    "t0 = time.time()\n",
    "count = 0\n",
    "for line in inFile:\n",
    "    count += 1\n",
    "print(time.time() - t0, count) # 0.5487008094787598 1382592"
   ]
  },
  {
   "cell_type": "code",
   "execution_count": null,
   "metadata": {},
   "outputs": [
    {
     "name": "stdout",
     "output_type": "stream",
     "text": [
      "0.5487008094787598 1382592\n"
     ]
    }
   ],
   "source": [
    "import gzip\n",
    "import time\n",
    "\n",
    "inFile = gzip.open('C:\\\\Users\\\\creeperpandatrex\\\\Documents\\\\1000genomes\\\\DATA\\\\GCF_000001405.40_GRCh38.p14_protein.faa.gz', 'rt')\n",
    "t0 = time.time()\n",
    "count = 0\n",
    "for line in inFile:\n",
    "    count += 1\n",
    "print(time.time() - t0, count) # 0.5487008094787598 1382592"
   ]
  },
  {
   "cell_type": "markdown",
   "metadata": {},
   "source": [
    "## fasta2oneCount"
   ]
  },
  {
   "cell_type": "code",
   "execution_count": 18,
   "metadata": {},
   "outputs": [
    {
     "name": "stdout",
     "output_type": "stream",
     "text": [
      "[1382592, 136194, 1246398]\n"
     ]
    }
   ],
   "source": [
    "inputFile = 'C:\\\\Users\\\\creeperpandatrex\\\\Documents\\\\1000genomes\\\\DATA\\\\GCF_000001405.40_GRCh38.p14_protein.faa.gz'\n",
    "def fasta2oneCount (myPath):\n",
    "    with myPath as file:\n",
    "        countLine = 0\n",
    "        countAngle = 0\n",
    "        countNotAngle = 0\n",
    "        for line in file:\n",
    "            countLine += 1\n",
    "            if line[0]  == '>':\n",
    "                countAngle += 1\n",
    "            else:\n",
    "                countNotAngle += 1\n",
    "    # print(countAngle, countNotAngle, countAngle + countNotAngle, count)\n",
    "    return [count, countAngle, countNotAngle]\n",
    "    \n",
    "def print2file (myObj, result):\n",
    "    out = open(myObj, 'w')\n",
    "    out.write(result)\n",
    "\n",
    "\n",
    "result = fasta2oneCount(gzip.open(inputFile, 'rt'))\n",
    "\n",
    "print(result)"
   ]
  },
  {
   "cell_type": "code",
   "execution_count": null,
   "metadata": {},
   "outputs": [],
   "source": [
    "import json\n",
    "\n",
    "def fasta2one (myPath):\n",
    "    with myPath as file:\n",
    "        countNoAngle = 0\n",
    "        fastaArrDics = []\n",
    "        currObj = {\"label\":'', \"seq\":''}\n",
    "        prevObj = {\"label\":'', \"seq\":''}\n",
    "        currSeq = \"\"\n",
    "        for line in file:\n",
    "            if line[0]  == '>':\n",
    "                currSeq = \"\"\n",
    "                prevObj = currObj\n",
    "                currObj = {\"label\":'', \"seq\":''}\n",
    "                currObj[\"label\"] = line\n",
    "                fastaArrDics.append(prevObj)\n",
    "            else:\n",
    "                countNoAngle += 1\n",
    "                currSeq += line.strip()\n",
    "                # oldLine = currObj[\"seq\"]\n",
    "                currObj.update({\"seq\": currSeq}) \n",
    "    # print(countAngle, countNotAngle, countAngle + countNotAngle, count)\n",
    "        # return [len(fastaArrDics), prevObj, currObj, countNoAngle]\n",
    "        return [len(fastaArrDics), fastaArrDics[0], fastaArrDics[1], fastaArrDics[-2], fastaArrDics[-1]]\n",
    "        # return [len(fastaArrDics), fastaArrDics[0], fastaArrDics[1], fastaArrDics[len(-1)]]\n",
    "\n",
    "    \n",
    "def print2file (myObj, result):\n",
    "    out = open(myObj, 'w')\n",
    "    # out.write(json.dumps(result))\n",
    "    json.dump(result, out)\n",
    "    out.close()\n",
    "\n",
    "print(fasta2one(gzip.open(inputFile, 'rt')))\n",
    "# print2file(inputFile + '.out', gzip.open(inputFile, 'rt')) # from arr of dics to json not straightfoward"
   ]
  },
  {
   "cell_type": "markdown",
   "metadata": {},
   "source": [
    "[136194, {'label': '', 'seq': ''}, {'label': '>NP_000005.3 alpha-2-macroglobulin isoform a precursor [Homo sapiens]\\n', 'seq': 'MGKNKLLHPSLVLLLLVLLPTDASVSGKPQYMVLVPSLLHTETTEKGCVLLSYLNETVTVSASLESVRGNRSLFTDLEAENDVLHCVAFAVPKSSSNEEVMFLTVQVKGPTQEFKKRTTVMVKNEDSLVFVQTDKSIYKPGQTVKFRVVSMDENFHPLNELIPLVYIQDPKGNRIAQWQSFQLEGGLKQFSFPLSSEPFQGSYKVVVQKKSGGRTEHPFTVEEFVLPKFEVQVTVPKIITILEEEMNVSVCGLYTYGKPVPGHVTVSICRKYSDASDCHGEDSQAFCEKFSGQLNSHGCFYQQVKTKVFQLKRKEYEMKLHTEAQIQEEGTVVELTGRQSSEITRTITKLSFVKVDSHFRQGIPFFGQVRLVDGKGVPIPNKVIFIRGNEANYYSNATTDEHGLVQFSINTTNVMGTSLTVRVNYKDRSPCYGYQWVSEEHEEAHHTAYLVFSPSKSFVHLEPMSHELPCGHTQTVQAHYILNGGTLLGLKKLSFYYLIMAKGGIVRTGTHGLLVKQEDMKGHFSISIPVKSDIAPVARLLIYAVLPTGDVIGDSAKYDVENCLANKVDLSFSPSQSLPASHAHLRVTAAPQSVCALRAVDQSVLLMKPDAELSASSVYNLLPEKDLTGFPGPLNDQDNEDCINRHNVYINGITYTPVSSTNEKDMYSFLEDMGLKAFTNSKIRKPKMCPQLQQYEMHGPEGLRVGFYESDVMGRGHARLVHVEEPHTETVRKYFPETWIWDLVVVNSAGVAEVGVTVPDTITEWKAGAFCLSEDAGLGISSTASLRAFQPFFVELTMPYSVIRGEAFTLKATVLNYLPKCIRVSVQLEASPAFLAVPVEKEQAPHCICANGRQTVSWAVTPKSLGNVNFTVSAEALESQELCGTEVPSVPEHGRKDTVIKPLLVEPEGLEKETTFNSLLCPSGGEVSEELSLKLPPNVVEESARASVSVLGDILGSAMQNTQNLLQMPYGCGEQNMVLFAPNIYVLDYLNETQQLTPEIKSKAIGYLNTGYQRQLNYKHYDGSYSTFGERYGRNQGNTWLTAFVLKTFAQARAYIFIDEAHITQALIWLSQRQKDNGCFRSSGSLLNNAIKGGVEDEVTLSAYITIALLEIPLTVTHPVVRNALFCLESAWKTAQEGDHGSHVYTKALLAYAFALAGNQDKRKEVLKSLNEEAVKKDNSVHWERPQKPKAPVGHFYEPQAPSAEVEMTSYVLLAYLTAQPAPTSEDLTSATNIVKWITKQQNAQGGFSSTQDTVVALHALSKYGAATFTRTGKAAQVTIQSSGTFSSKFQVDNNNRLLLQQVSLPELPGEYSMKVTGEGCVYLQTSLKYNILPEKEEFPFALGVQTLPQTCDEPKAHTSFQISLSVSYTGSRSASNMAIVDVKMVSGFIPLKPTVKMLERSNHVSRTEVSSNHVLIYLDKVSNQTLSLFFTVLQDVPVRDLKPAIVKVYDYYETDEFAIAEYNAPCSKDLGNA'}, {'label': '>YP_003024036.1 NADH dehydrogenase subunit 5 (mitochondrion) [Homo sapiens]\\n', 'seq': 'MTMHTTMTTLTLTSLIPPILTTLVNPNKKNSYPHYVKSIVASTFIISLFPTTMFMCLDQEVIISNWHWATTQTTQLSLSFKLDYFSMMFIPVALFVTWSIMEFSLWYMNSDPNINQFFKYLLIFLITMLILVTANNLFQLFIGWEGVGIMSFLLISWWYARADANTAAIQAILYNRIGDIGFILALAWFILHSNSWDPQQMALLNANPSLTPLLGLLLAAAGKSAQLGLHPWLPSAMEGPTPVSALLHSSTMVVAGIFLLIRFHPLAENSPLIQTLTLCLGAITTLFAAVCALTQNDIKKIVAFSTSSQLGLMMVTIGINQPHLAFLHICTHAFFKAMLFMCSGSIIHNLNNEQDIRKMGGLLKTMPLTSTSLTIGSLALAGMPFLTGFYSKDHIIETANMSYTNAWALSITLIATSLTSAYSTRMILLTLTGQPRFPTLTNINENNPTLLNPIKRLAAGSLFAGFLITNNISPASPFQTTIPLYLKLTALAVTFLGLLTALDLNYLTNKLKMKSPLCTFYFSNMLGFYPSITHRTIPYLGLLTSQNLPLLLLDLTWLEKLLPKTISQHQISTSIITSTQKGMIKLYFLSFFFPLILTLLLIT'}, {'label': '>YP_003024037.1 NADH dehydrogenase subunit 6 (mitochondrion) [Homo sapiens]\\n', 'seq': 'MMYALFLLSVGLVMGFVGFSSKPSPIYGGLVLIVSGVVGCVIILNFGGGYMGLMVFLIYLGGMMVVFGYTTAMAIEEYPEAWGSGVEVLVSVLVGLAMEVGLVLWVKEYDGVVVVVNFNSVGSWMIYEGEGSGLIREDPIGAGALYDYGRWLVVVTGWTLFVGVYIVIEIARGN'}]\n"
   ]
  },
  {
   "cell_type": "code",
   "execution_count": null,
   "metadata": {},
   "outputs": [],
   "source": [
    "import json\n",
    "\n",
    "def fasta2one (myPath):\n",
    "    with myPath as file:\n",
    "        countNoAngle = 0\n",
    "        fastaArr = []\n",
    "        currObj = {\"label\":'', \"seq\":''}\n",
    "        prevObj = {\"label\":'', \"seq\":''}\n",
    "        currSeq = \"\"\n",
    "        for line in file:\n",
    "            if line[0]  == '>':\n",
    "                currSeq = \"\"\n",
    "                prevObj = currObj\n",
    "                currObj = {\"label\":'', \"seq\":''}\n",
    "                currObj[\"label\"] = line\n",
    "                fastaArr.append(prevObj)\n",
    "            else:\n",
    "                countNoAngle += 1\n",
    "                currSeq += line.strip()\n",
    "                # oldLine = currObj[\"seq\"]\n",
    "                currObj.update({\"seq\": currSeq}) \n",
    "    # print(countAngle, countNotAngle, countAngle + countNotAngle, count)\n",
    "        # return [len(fastaArr), prevObj, currObj, countNoAngle]\n",
    "        return fastaArr\n",
    "\n",
    "    \n",
    "def print2file (myObj, result):\n",
    "    out = open(myObj, 'w')\n",
    "    # out.write(json.dumps(result))\n",
    "    json.dump(result, out)\n",
    "    out.close()\n",
    "\n",
    "# print(fasta2one(gzip.open(inputFile, 'rt')))\n",
    "# print2file(inputFile + '.out', gzip.open(inputFile, 'rt')) # from arr of dics to json not straightfoward"
   ]
  },
  {
   "cell_type": "markdown",
   "metadata": {},
   "source": [
    "### output\n",
    "\n",
    "#### [len(fastaArr), prevObj, currObj]\n",
    "\n",
    "```\n",
    "print(fasta2one(gzip.open(inputFile, 'rt')))\n",
    "\n",
    "\n",
    "[\n",
    "    136194, \n",
    "    {    'label': '>YP_003024038.1 cytochrome b (mitochondrion) [Homo sapiens]\\n', 'seq': ''}\n",
    "    {    'label': '>YP_003024038.1 cytochrome b (mitochondrion) [Homo sapiens]\\n', 'seq': ''}, \n",
    "]\n",
    "\n",
    "[136194, {'label': '>YP_003024037.1 NADH dehydrogenase subunit 6 (mitochondrion) [Homo sapiens]\\n', 'seq': 'FVGVYIVIEIARGN\\n'}, {'label': '>YP_003024038.1 cytochrome b (mitochondrion) [Homo sapiens]\\n', 'seq': 'SQSLYWLLAADLLILTWIGGQPVSYPFTIIGQVASVLYFTTILILMPTISLIENKMLKWA\\n'}, 1246398]\n",
    "\n",
    "\n",
    "[136194, {'label': '>YP_003024037.1 NADH dehydrogenase subunit 6 (mitochondrion) [Homo sapiens]\\n', 'seq': 'MMYALFLLSVGLVMGFVGFSSKPSPIYGGLVLIVSGVVGCVIILNFGGGYMGLMVFLIYLGGMMVVFGYTTAMAIEEYPE\\nAWGSGVEVLVSVLVGLAMEVGLVLWVKEYDGVVVVVNFNSVGSWMIYEGEGSGLIREDPIGAGALYDYGRWLVVVTGWTL\\nFVGVYIVIEIARGN\\n'}, {'label': '>YP_003024038.1 cytochrome b (mitochondrion) [Homo sapiens]\\n', 'seq': 'MTPMRKTNPLMKLINHSFIDLPTPSNISAWWNFGSLLGACLILQITTGLFLAMHYSPDASTAFSSIAHITRDVNYGWIIR\\nYLHANGASMFFICLFLHIGRGLYYGSFLYSETWNIGIILLLATMATAFMGYVLPWGQMSFWGATVITNLLSAIPYIGTDL\\nVQWIWGGYSVDSPTLTRFFTFHFILPFIIAALATLHLLFLHETGSNNPLGITSHSDKITFHPYYTIKDALGLLLFLLSLM\\nTLTLFSPDLLGDPDNYTLANPLNTPPHIKPEWYFLFAYTILRSVPNKLGGVLALLLSILILAMIPILHMSKQQSMMFRPL\\nSQSLYWLLAADLLILTWIGGQPVSYPFTIIGQVASVLYFTTILILMPTISLIENKMLKWA\\n'}, 1246398]\n",
    "\n",
    "[136194, {'label': '>YP_003024037.1 NADH dehydrogenase subunit 6 (mitochondrion) [Homo sapiens]\\n', 'seq': 'MMYALFLLSVGLVMGFVGFSSKPSPIYGGLVLIVSGVVGCVIILNFGGGYMGLMVFLIYLGGMMVVFGYTTAMAIEEYPEAWGSGVEVLVSVLVGLAMEVGLVLWVKEYDGVVVVVNFNSVGSWMIYEGEGSGLIREDPIGAGALYDYGRWLVVVTGWTLFVGVYIVIEIARGN'}, {'label': '>YP_003024038.1 cytochrome b (mitochondrion) [Homo sapiens]\\n', 'seq': 'MTPMRKTNPLMKLINHSFIDLPTPSNISAWWNFGSLLGACLILQITTGLFLAMHYSPDASTAFSSIAHITRDVNYGWIIRYLHANGASMFFICLFLHIGRGLYYGSFLYSETWNIGIILLLATMATAFMGYVLPWGQMSFWGATVITNLLSAIPYIGTDLVQWIWGGYSVDSPTLTRFFTFHFILPFIIAALATLHLLFLHETGSNNPLGITSHSDKITFHPYYTIKDALGLLLFLLSLMTLTLFSPDLLGDPDNYTLANPLNTPPHIKPEWYFLFAYTILRSVPNKLGGVLALLLSILILAMIPILHMSKQQSMMFRPLSQSLYWLLAADLLILTWIGGQPVSYPFTIIGQVASVLYFTTILILMPTISLIENKMLKWA'}, 1246398]\n",
    "\n",
    "\n",
    "```"
   ]
  },
  {
   "cell_type": "markdown",
   "metadata": {},
   "source": [
    "## $ head GCF_000001405.40_GRCh38.p14_protein.faa\n",
    "\n",
    "### >NP_000005.3 alpha-2-macroglobulin isoform a precursor [Homo sapiens]\n",
    "\n",
    "MGKNKLLHPSLVLLLLVLLPTDASVSGKPQYMVLVPSLLHTETTEKGCVLLSYLNETVTVSASLESVRGNRSLFTDLEAE\n",
    "NDVLHCVAFAVPKSSSNEEVMFLTVQVKGPTQEFKKRTTVMVKNEDSLVFVQTDKSIYKPGQTVKFRVVSMDENFHPLNE\n",
    "LIPLVYIQDPKGNRIAQWQSFQLEGGLKQFSFPLSSEPFQGSYKVVVQKKSGGRTEHPFTVEEFVLPKFEVQVTVPKIIT\n",
    "ILEEEMNVSVCGLYTYGKPVPGHVTVSICRKYSDASDCHGEDSQAFCEKFSGQLNSHGCFYQQVKTKVFQLKRKEYEMKL\n",
    "HTEAQIQEEGTVVELTGRQSSEITRTITKLSFVKVDSHFRQGIPFFGQVRLVDGKGVPIPNKVIFIRGNEANYYSNATTD\n",
    "EHGLVQFSINTTNVMGTSLTVRVNYKDRSPCYGYQWVSEEHEEAHHTAYLVFSPSKSFVHLEPMSHELPCGHTQTVQAHY\n",
    "ILNGGTLLGLKKLSFYYLIMAKGGIVRTGTHGLLVKQEDMKGHFSISIPVKSDIAPVARLLIYAVLPTGDVIGDSAKYDV\n",
    "ENCLANKVDLSFSPSQSLPASHAHLRVTAAPQSVCALRAVDQSVLLMKPDAELSASSVYNLLPEKDLTGFPGPLNDQDNE\n",
    "DCINRHNVYINGITYTPVSSTNEKDMYSFLEDMGLKAFTNSKIRKPKMCPQLQQYEMHGPEGLRVGFYESDVMGRGHARL\n",
    "\n"
   ]
  },
  {
   "cell_type": "markdown",
   "metadata": {},
   "source": [
    "###  tail GCF_000001405.40_GRCh38.p14_protein.faa\n",
    "\n",
    "### >YP_003024037.1 NADH dehydrogenase subunit 6 (mitochondrion) [Homo sapiens]\n",
    "MMYALFLLSVGLVMGFVGFSSKPSPIYGGLVLIVSGVVGCVIILNFGGGYMGLMVFLIYLGGMMVVFGYTTAMAIEEYPE\n",
    "AWGSGVEVLVSVLVGLAMEVGLVLWVKEYDGVVVVVNFNSVGSWMIYEGEGSGLIREDPIGAGALYDYGRWLVVVTGWTL\n",
    "FVGVYIVIEIARGN\n",
    "\n",
    "### >YP_003024038.1 cytochrome b (mitochondrion) [Homo sapiens]\n",
    "MTPMRKTNPLMKLINHSFIDLPTPSNISAWWNFGSLLGACLILQITTGLFLAMHYSPDASTAFSSIAHITRDVNYGWIIR\n",
    "YLHANGASMFFICLFLHIGRGLYYGSFLYSETWNIGIILLLATMATAFMGYVLPWGQMSFWGATVITNLLSAIPYIGTDL\n",
    "VQWIWGGYSVDSPTLTRFFTFHFILPFIIAALATLHLLFLHETGSNNPLGITSHSDKITFHPYYTIKDALGLLLFLLSLM\n",
    "TLTLFSPDLLGDPDNYTLANPLNTPPHIKPEWYFLFAYTILRSVPNKLGGVLALLLSILILAMIPILHMSKQQSMMFRPL\n",
    "SQSLYWLLAADLLILTWIGGQPVSYPFTIIGQVASVLYFTTILILMPTISLIENKMLKWA\n"
   ]
  },
  {
   "cell_type": "markdown",
   "metadata": {},
   "source": [
    "## 6.9.2024\n",
    "\n",
    "1. First record in the dictionary is {'label': '', 'seq': ''}.\n",
    "1. Last object in the dictionary is absent\n",
    "1. Count of angle char is correct but misleading\n",
    "1. Check at the end content of prevObj/currObj\n",
    "1. Give up trying to print out a json file from list (array) of dictionaries\n",
    "1. in dictionary {'label': '\\n'} there is a newline char in label. Get rid of it"
   ]
  },
  {
   "cell_type": "code",
   "execution_count": 56,
   "metadata": {},
   "outputs": [],
   "source": [
    "import json\n",
    "\n",
    "def fasta2one (myPath):\n",
    "    with myPath as file:\n",
    "        countAngle = 0\n",
    "        countNoAngle = 0\n",
    "        fastaArrDics = []\n",
    "        currObj = {\"label\":'', \"seq\":''}\n",
    "        prevObj = {\"label\":'', \"seq\":''}\n",
    "        currSeq = \"\"\n",
    "        for line in file:\n",
    "            if line[0]  == '>':\n",
    "                countAngle += 1\n",
    "                currSeq = \"\"\n",
    "                prevObj = currObj\n",
    "                currObj = {\"label\":'', \"seq\":''}\n",
    "                currObj[\"label\"] = line.strip()\n",
    "                if countAngle != 1:\n",
    "                    fastaArrDics.append(prevObj)\n",
    "            else:\n",
    "                countNoAngle += 1\n",
    "                currSeq += line.strip()\n",
    "                currObj.update({\"seq\": currSeq}) \n",
    "        fastaArrDics.append(currObj)\n",
    "        # return [len(fastaArrDics), prevObj, currObj, countNoAngle + countAngle]\n",
    "        # return [len(fastaArrDics), fastaArrDics[0], fastaArrDics[1], fastaArrDics[-2], fastaArrDics[-1]]\n",
    "        return fastaArrDics\n",
    "\n",
    "globalDictionary = fasta2one(gzip.open(inputFile, 'rt'))"
   ]
  },
  {
   "cell_type": "markdown",
   "metadata": {},
   "source": [
    "### dictionary {} has newline\n",
    "[136194, {'label': '>YP_003024037.1 NADH dehydrogenase subunit 6 (mitochondrion) [Homo sapiens]\\n', 'seq': 'MMYALFLLSVGLVMGFVGFSSKPSPIYGGLVLIVSGVVGCVIILNFGGGYMGLMVFLIYLGGMMVVFGYTTAMAIEEYPEAWGSGVEVLVSVLVGLAMEVGLVLWVKEYDGVVVVVNFNSVGSWMIYEGEGSGLIREDPIGAGALYDYGRWLVVVTGWTLFVGVYIVIEIARGN'}, {'label': '>YP_003024038.1 cytochrome b (mitochondrion) [Homo sapiens]\\n', 'seq': 'MTPMRKTNPLMKLINHSFIDLPTPSNISAWWNFGSLLGACLILQITTGLFLAMHYSPDASTAFSSIAHITRDVNYGWIIRYLHANGASMFFICLFLHIGRGLYYGSFLYSETWNIGIILLLATMATAFMGYVLPWGQMSFWGATVITNLLSAIPYIGTDLVQWIWGGYSVDSPTLTRFFTFHFILPFIIAALATLHLLFLHETGSNNPLGITSHSDKITFHPYYTIKDALGLLLFLLSLMTLTLFSPDLLGDPDNYTLANPLNTPPHIKPEWYFLFAYTILRSVPNKLGGVLALLLSILILAMIPILHMSKQQSMMFRPLSQSLYWLLAADLLILTWIGGQPVSYPFTIIGQVASVLYFTTILILMPTISLIENKMLKWA'}, 1246398]\n",
    "\n",
    "### dictionary {} does not have newline\n",
    "\n",
    "[136194, {'label': '>YP_003024037.1 NADH dehydrogenase subunit 6 (mitochondrion) [Homo sapiens]', 'seq': 'MMYALFLLSVGLVMGFVGFSSKPSPIYGGLVLIVSGVVGCVIILNFGGGYMGLMVFLIYLGGMMVVFGYTTAMAIEEYPEAWGSGVEVLVSVLVGLAMEVGLVLWVKEYDGVVVVVNFNSVGSWMIYEGEGSGLIREDPIGAGALYDYGRWLVVVTGWTLFVGVYIVIEIARGN'}, {'label': '>YP_003024038.1 cytochrome b (mitochondrion) [Homo sapiens]', 'seq': 'MTPMRKTNPLMKLINHSFIDLPTPSNISAWWNFGSLLGACLILQITTGLFLAMHYSPDASTAFSSIAHITRDVNYGWIIRYLHANGASMFFICLFLHIGRGLYYGSFLYSETWNIGIILLLATMATAFMGYVLPWGQMSFWGATVITNLLSAIPYIGTDLVQWIWGGYSVDSPTLTRFFTFHFILPFIIAALATLHLLFLHETGSNNPLGITSHSDKITFHPYYTIKDALGLLLFLLSLMTLTLFSPDLLGDPDNYTLANPLNTPPHIKPEWYFLFAYTILRSVPNKLGGVLALLLSILILAMIPILHMSKQQSMMFRPLSQSLYWLLAADLLILTWIGGQPVSYPFTIIGQVASVLYFTTILILMPTISLIENKMLKWA'}, 1246398]\n",
    "\n",
    "### dictionary last currObj added to fastaArrDics (list of dics): the last record of the list\n",
    "\n",
    "[136195, {'label': '', 'seq': ''}, {'label': '>NP_000005.3 alpha-2-macroglobulin isoform a precursor [Homo sapiens]', 'seq': 'MGKNKLLHPSLVLLLLVLLPTDASVSGKPQYMVLVPSLLHTETTEKGCVLLSYLNETVTVSASLESVRGNRSLFTDLEAENDVLHCVAFAVPKSSSNEEVMFLTVQVKGPTQEFKKRTTVMVKNEDSLVFVQTDKSIYKPGQTVKFRVVSMDENFHPLNELIPLVYIQDPKGNRIAQWQSFQLEGGLKQFSFPLSSEPFQGSYKVVVQKKSGGRTEHPFTVEEFVLPKFEVQVTVPKIITILEEEMNVSVCGLYTYGKPVPGHVTVSICRKYSDASDCHGEDSQAFCEKFSGQLNSHGCFYQQVKTKVFQLKRKEYEMKLHTEAQIQEEGTVVELTGRQSSEITRTITKLSFVKVDSHFRQGIPFFGQVRLVDGKGVPIPNKVIFIRGNEANYYSNATTDEHGLVQFSINTTNVMGTSLTVRVNYKDRSPCYGYQWVSEEHEEAHHTAYLVFSPSKSFVHLEPMSHELPCGHTQTVQAHYILNGGTLLGLKKLSFYYLIMAKGGIVRTGTHGLLVKQEDMKGHFSISIPVKSDIAPVARLLIYAVLPTGDVIGDSAKYDVENCLANKVDLSFSPSQSLPASHAHLRVTAAPQSVCALRAVDQSVLLMKPDAELSASSVYNLLPEKDLTGFPGPLNDQDNEDCINRHNVYINGITYTPVSSTNEKDMYSFLEDMGLKAFTNSKIRKPKMCPQLQQYEMHGPEGLRVGFYESDVMGRGHARLVHVEEPHTETVRKYFPETWIWDLVVVNSAGVAEVGVTVPDTITEWKAGAFCLSEDAGLGISSTASLRAFQPFFVELTMPYSVIRGEAFTLKATVLNYLPKCIRVSVQLEASPAFLAVPVEKEQAPHCICANGRQTVSWAVTPKSLGNVNFTVSAEALESQELCGTEVPSVPEHGRKDTVIKPLLVEPEGLEKETTFNSLLCPSGGEVSEELSLKLPPNVVEESARASVSVLGDILGSAMQNTQNLLQMPYGCGEQNMVLFAPNIYVLDYLNETQQLTPEIKSKAIGYLNTGYQRQLNYKHYDGSYSTFGERYGRNQGNTWLTAFVLKTFAQARAYIFIDEAHITQALIWLSQRQKDNGCFRSSGSLLNNAIKGGVEDEVTLSAYITIALLEIPLTVTHPVVRNALFCLESAWKTAQEGDHGSHVYTKALLAYAFALAGNQDKRKEVLKSLNEEAVKKDNSVHWERPQKPKAPVGHFYEPQAPSAEVEMTSYVLLAYLTAQPAPTSEDLTSATNIVKWITKQQNAQGGFSSTQDTVVALHALSKYGAATFTRTGKAAQVTIQSSGTFSSKFQVDNNNRLLLQQVSLPELPGEYSMKVTGEGCVYLQTSLKYNILPEKEEFPFALGVQTLPQTCDEPKAHTSFQISLSVSYTGSRSASNMAIVDVKMVSGFIPLKPTVKMLERSNHVSRTEVSSNHVLIYLDKVSNQTLSLFFTVLQDVPVRDLKPAIVKVYDYYETDEFAIAEYNAPCSKDLGNA'}, {'label': '>YP_003024037.1 NADH dehydrogenase subunit 6 (mitochondrion) [Homo sapiens]', 'seq': 'MMYALFLLSVGLVMGFVGFSSKPSPIYGGLVLIVSGVVGCVIILNFGGGYMGLMVFLIYLGGMMVVFGYTTAMAIEEYPEAWGSGVEVLVSVLVGLAMEVGLVLWVKEYDGVVVVVNFNSVGSWMIYEGEGSGLIREDPIGAGALYDYGRWLVVVTGWTLFVGVYIVIEIARGN'}, {'label': '>YP_003024038.1 cytochrome b (mitochondrion) [Homo sapiens]', 'seq': 'MTPMRKTNPLMKLINHSFIDLPTPSNISAWWNFGSLLGACLILQITTGLFLAMHYSPDASTAFSSIAHITRDVNYGWIIRYLHANGASMFFICLFLHIGRGLYYGSFLYSETWNIGIILLLATMATAFMGYVLPWGQMSFWGATVITNLLSAIPYIGTDLVQWIWGGYSVDSPTLTRFFTFHFILPFIIAALATLHLLFLHETGSNNPLGITSHSDKITFHPYYTIKDALGLLLFLLSLMTLTLFSPDLLGDPDNYTLANPLNTPPHIKPEWYFLFAYTILRSVPNKLGGVLALLLSILILAMIPILHMSKQQSMMFRPLSQSLYWLLAADLLILTWIGGQPVSYPFTIIGQVASVLYFTTILILMPTISLIENKMLKWA'}]\n",
    "\n",
    "### List of dics first empty record not added so the count is correct and the head and tail are correct\n",
    "\n",
    "[136194, {'label': '>NP_000005.3 alpha-2-macroglobulin isoform a precursor [Homo sapiens]', 'seq': 'MGKNKLLHPSLVLLLLVLLPTDASVSGKPQYMVLVPSLLHTETTEKGCVLLSYLNETVTVSASLESVRGNRSLFTDLEAENDVLHCVAFAVPKSSSNEEVMFLTVQVKGPTQEFKKRTTVMVKNEDSLVFVQTDKSIYKPGQTVKFRVVSMDENFHPLNELIPLVYIQDPKGNRIAQWQSFQLEGGLKQFSFPLSSEPFQGSYKVVVQKKSGGRTEHPFTVEEFVLPKFEVQVTVPKIITILEEEMNVSVCGLYTYGKPVPGHVTVSICRKYSDASDCHGEDSQAFCEKFSGQLNSHGCFYQQVKTKVFQLKRKEYEMKLHTEAQIQEEGTVVELTGRQSSEITRTITKLSFVKVDSHFRQGIPFFGQVRLVDGKGVPIPNKVIFIRGNEANYYSNATTDEHGLVQFSINTTNVMGTSLTVRVNYKDRSPCYGYQWVSEEHEEAHHTAYLVFSPSKSFVHLEPMSHELPCGHTQTVQAHYILNGGTLLGLKKLSFYYLIMAKGGIVRTGTHGLLVKQEDMKGHFSISIPVKSDIAPVARLLIYAVLPTGDVIGDSAKYDVENCLANKVDLSFSPSQSLPASHAHLRVTAAPQSVCALRAVDQSVLLMKPDAELSASSVYNLLPEKDLTGFPGPLNDQDNEDCINRHNVYINGITYTPVSSTNEKDMYSFLEDMGLKAFTNSKIRKPKMCPQLQQYEMHGPEGLRVGFYESDVMGRGHARLVHVEEPHTETVRKYFPETWIWDLVVVNSAGVAEVGVTVPDTITEWKAGAFCLSEDAGLGISSTASLRAFQPFFVELTMPYSVIRGEAFTLKATVLNYLPKCIRVSVQLEASPAFLAVPVEKEQAPHCICANGRQTVSWAVTPKSLGNVNFTVSAEALESQELCGTEVPSVPEHGRKDTVIKPLLVEPEGLEKETTFNSLLCPSGGEVSEELSLKLPPNVVEESARASVSVLGDILGSAMQNTQNLLQMPYGCGEQNMVLFAPNIYVLDYLNETQQLTPEIKSKAIGYLNTGYQRQLNYKHYDGSYSTFGERYGRNQGNTWLTAFVLKTFAQARAYIFIDEAHITQALIWLSQRQKDNGCFRSSGSLLNNAIKGGVEDEVTLSAYITIALLEIPLTVTHPVVRNALFCLESAWKTAQEGDHGSHVYTKALLAYAFALAGNQDKRKEVLKSLNEEAVKKDNSVHWERPQKPKAPVGHFYEPQAPSAEVEMTSYVLLAYLTAQPAPTSEDLTSATNIVKWITKQQNAQGGFSSTQDTVVALHALSKYGAATFTRTGKAAQVTIQSSGTFSSKFQVDNNNRLLLQQVSLPELPGEYSMKVTGEGCVYLQTSLKYNILPEKEEFPFALGVQTLPQTCDEPKAHTSFQISLSVSYTGSRSASNMAIVDVKMVSGFIPLKPTVKMLERSNHVSRTEVSSNHVLIYLDKVSNQTLSLFFTVLQDVPVRDLKPAIVKVYDYYETDEFAIAEYNAPCSKDLGNA'}, {'label': '>NP_000006.2 arylamine N-acetyltransferase 2 [Homo sapiens]', 'seq': 'MDIEAYFERIGYKNSRNKLDLETLTDILEHQIRAVPFENLNMHCGQAMELGLEAIFDHIVRRNRGGWCLQVNQLLYWALTTIGFQTTMLGGYFYIPPVNKYSTGMVHLLLQVTIDGRNYIVDAGSGSSSQMWQPLELISGKDQPQVPCIFCLTEERGIWYLDQIRREQYITNKEFLNSHLLPKKKHQKIYLFTLEPRTIEDFESMNTYLQTSPTSSFITTSFCSLQTPEGVYCLVGFILTYRKFNYKDNTDLVEFKTLTEEEVEEVLRNIFKISLGRNLVPKPGDGSLTI'}, {'label': '>YP_003024037.1 NADH dehydrogenase subunit 6 (mitochondrion) [Homo sapiens]', 'seq': 'MMYALFLLSVGLVMGFVGFSSKPSPIYGGLVLIVSGVVGCVIILNFGGGYMGLMVFLIYLGGMMVVFGYTTAMAIEEYPEAWGSGVEVLVSVLVGLAMEVGLVLWVKEYDGVVVVVNFNSVGSWMIYEGEGSGLIREDPIGAGALYDYGRWLVVVTGWTLFVGVYIVIEIARGN'}, {'label': '>YP_003024038.1 cytochrome b (mitochondrion) [Homo sapiens]', 'seq': 'MTPMRKTNPLMKLINHSFIDLPTPSNISAWWNFGSLLGACLILQITTGLFLAMHYSPDASTAFSSIAHITRDVNYGWIIRYLHANGASMFFICLFLHIGRGLYYGSFLYSETWNIGIILLLATMATAFMGYVLPWGQMSFWGATVITNLLSAIPYIGTDLVQWIWGGYSVDSPTLTRFFTFHFILPFIIAALATLHLLFLHETGSNNPLGITSHSDKITFHPYYTIKDALGLLLFLLSLMTLTLFSPDLLGDPDNYTLANPLNTPPHIKPEWYFLFAYTILRSVPNKLGGVLALLLSILILAMIPILHMSKQQSMMFRPLSQSLYWLLAADLLILTWIGGQPVSYPFTIIGQVASVLYFTTILILMPTISLIENKMLKWA'}]\n",
    "\n"
   ]
  },
  {
   "cell_type": "markdown",
   "metadata": {},
   "source": [
    "## Algorithm fasta to one python version 6.9.2024\n",
    "\n",
    "1. Created def `fasta2one` that accepts a path to faa.gz file [GCF_000001405.40_GRCh38.p14_protein.faa.gz](https://ftp.ncbi.nlm.nih.gov/genomes/refseq/vertebrate_mammalian/Homo_sapiens/all_assembly_versions/GCF_000001405.40_GRCh38.p14/)\n",
    "4. declare dictionaries: current obj and prev obj and counters.\n",
    "1. start loop\n",
    "    1. if first char is '>' assign to previous obj what is in currentobj\n",
    "    1. reinitialize currentobj label to '' and seq to ''\n",
    "    1. assign currentobj.label the current line (which starts with '>') stripped of newline\n",
    "    1. push previousobj to fasta list of objects {label:XXXX, seq: XXXXXX} only if it is not the first iteration\n",
    "    1. if first char is not '>' then\n",
    "    1. concatenate current line to current seq stripped of newline\n",
    "    1. finish the loop\n",
    "1. Append (push) the current obj with the last iteration data to the list of dics (fastaArrDics)\n",
    "1. Call fasta2one passing the path to a gzip method : gzip.open(file, 'rt')\n",
    "1. Check element at 0, 1, -2, and -1\n",
    "\n"
   ]
  },
  {
   "cell_type": "markdown",
   "metadata": {},
   "source": [
    "### Generate hashes from a list of dictionaries (array of object)\n",
    "\n",
    "1. Protein data from faa.gz read and parsed into {'label': 'XXXX', 'seq': 'XXXX'}. Total number 136,194 records\n",
    "1. loop list of dictionaries\n",
    "    1. generate labelHash, seqHash, length\n",
    "    1. save hashes if file are not too large in github, pending to decide as flat files or as data structrue for further processing\n",
    "1. "
   ]
  },
  {
   "cell_type": "code",
   "execution_count": 101,
   "metadata": {},
   "outputs": [
    {
     "name": "stdout",
     "output_type": "stream",
     "text": [
      "True\n",
      "NelsonDiomedesLopezJimenez\n",
      "136194\n",
      "label, label+SEED, seq, seq+SEED\n",
      ">NP_000005.3 alpha-2-macroglobulin isoform a precursor [Homo sapiens]\n",
      "d79d8de7431c58eb09bc5bd76416bfa68f96cd1fbe212cad17b28dc6e64c8b27\n",
      "1467fc8d0138aa3ba0bf00e4cad6ee9f10b84824f5a09a9207d35c95bac744f1\n",
      "3ee0b59c31b62639a736da5c2a82042db3dc927f55f0ecb02a33c9d326563ce0\n",
      "39eca04ae20df3c1f919306e78e2e247e9208ef3ffd7282d2bb1eac2881626e9\n",
      "\n",
      ">YP_003024038.1 cytochrome b (mitochondrion) [Homo sapiens]\n",
      "cd8e1f1286087392c4d213ff6c44721f6f734114e2eb48d9a727f8c9c381d823\n",
      "cccbbbb2acb4541a9216bbb0ba3b7e5757abe314ea4fee9c2801945407f0db06\n",
      "2418f2e64d6a4d2148802c8eae64d9da6757e8ad157a03f55a047249148b1756\n",
      "41b5a55f6285ed7fc60b182de80670e3f4fc06f78530fe7ca780ded21963dd99\n"
     ]
    }
   ],
   "source": [
    "from hashlib import sha256\n",
    "import os\n",
    "from dotenv import load_dotenv\n",
    "\n",
    "print(load_dotenv())\n",
    "print(os.getenv('SEED'))\n",
    "\n",
    "def dict2hash (obj):\n",
    "    print(len(obj))\n",
    "    print('label, label+SEED, seq, seq+SEED')\n",
    "    print(obj[0]['label'])\n",
    "    print(sha256(obj[0]['label'].encode()).hexdigest())\n",
    "    print(sha256((obj[0]['label'] + os.getenv('SEED')).encode()).hexdigest())\n",
    "    print(sha256(obj[0]['seq'].encode()).hexdigest())\n",
    "    print(sha256((obj[0]['seq'] + os.getenv('SEED')).encode()).hexdigest())\n",
    "    print()\n",
    "    print(obj[-1]['label'])\n",
    "    print(sha256(obj[-1]['label'].encode()).hexdigest())\n",
    "    print(sha256((obj[-1]['label'] + os.getenv('SEED')).encode()).hexdigest())\n",
    "    print(sha256(obj[-1]['seq'].encode()).hexdigest())\n",
    "    print(sha256((obj[-1]['seq'] + os.getenv('SEED')).encode()).hexdigest())\n",
    "dict2hash(globalDictionary)"
   ]
  },
  {
   "cell_type": "markdown",
   "metadata": {},
   "source": [
    "True\n",
    "136194\n",
    "\n",
    "## explanation: label, label+SEED, seq, seq+SEED from index 0 and index -1\n",
    "\n",
    "\n",
    "### >NP_000005.3 alpha-2-macroglobulin isoform a precursor [Homo sapiens]\n",
    "```\n",
    "d79d8de7431c58eb09bc5bd76416bfa68f96cd1fbe212cad17b28dc6e64c8b27\n",
    "1467fc8d0138aa3ba0bf00e4cad6ee9f10b84824f5a09a9207d35c95bac744f1\n",
    "3ee0b59c31b62639a736da5c2a82042db3dc927f55f0ecb02a33c9d326563ce0\n",
    "39eca04ae20df3c1f919306e78e2e247e9208ef3ffd7282d2bb1eac2881626e9\n",
    "```\n",
    "### >YP_003024038.1 cytochrome b (mitochondrion) [Homo sapiens]\n",
    "```\n",
    "cd8e1f1286087392c4d213ff6c44721f6f734114e2eb48d9a727f8c9c381d823\n",
    "cccbbbb2acb4541a9216bbb0ba3b7e5757abe314ea4fee9c2801945407f0db06\n",
    "2418f2e64d6a4d2148802c8eae64d9da6757e8ad157a03f55a047249148b1756\n",
    "41b5a55f6285ed7fc60b182de80670e3f4fc06f78530fe7ca780ded21963dd99\n",
    "```"
   ]
  },
  {
   "cell_type": "markdown",
   "metadata": {},
   "source": [
    "## GLOBALS"
   ]
  },
  {
   "cell_type": "code",
   "execution_count": 103,
   "metadata": {},
   "outputs": [
    {
     "name": "stdout",
     "output_type": "stream",
     "text": [
      "[{'label': '>NP_000005.3 alpha-2-macroglobulin isoform a precursor [Homo sapiens]', 'seq': 'MGKNKLLHPSLVLLLLVLLPTDASVSGKPQYMVLVPSLLHTETTEKGCVLLSYLNETVTVSASLESVRGNRSLFTDLEAENDVLHCVAFAVPKSSSNEEVMFLTVQVKGPTQEFKKRTTVMVKNEDSLVFVQTDKSIYKPGQTVKFRVVSMDENFHPLNELIPLVYIQDPKGNRIAQWQSFQLEGGLKQFSFPLSSEPFQGSYKVVVQKKSGGRTEHPFTVEEFVLPKFEVQVTVPKIITILEEEMNVSVCGLYTYGKPVPGHVTVSICRKYSDASDCHGEDSQAFCEKFSGQLNSHGCFYQQVKTKVFQLKRKEYEMKLHTEAQIQEEGTVVELTGRQSSEITRTITKLSFVKVDSHFRQGIPFFGQVRLVDGKGVPIPNKVIFIRGNEANYYSNATTDEHGLVQFSINTTNVMGTSLTVRVNYKDRSPCYGYQWVSEEHEEAHHTAYLVFSPSKSFVHLEPMSHELPCGHTQTVQAHYILNGGTLLGLKKLSFYYLIMAKGGIVRTGTHGLLVKQEDMKGHFSISIPVKSDIAPVARLLIYAVLPTGDVIGDSAKYDVENCLANKVDLSFSPSQSLPASHAHLRVTAAPQSVCALRAVDQSVLLMKPDAELSASSVYNLLPEKDLTGFPGPLNDQDNEDCINRHNVYINGITYTPVSSTNEKDMYSFLEDMGLKAFTNSKIRKPKMCPQLQQYEMHGPEGLRVGFYESDVMGRGHARLVHVEEPHTETVRKYFPETWIWDLVVVNSAGVAEVGVTVPDTITEWKAGAFCLSEDAGLGISSTASLRAFQPFFVELTMPYSVIRGEAFTLKATVLNYLPKCIRVSVQLEASPAFLAVPVEKEQAPHCICANGRQTVSWAVTPKSLGNVNFTVSAEALESQELCGTEVPSVPEHGRKDTVIKPLLVEPEGLEKETTFNSLLCPSGGEVSEELSLKLPPNVVEESARASVSVLGDILGSAMQNTQNLLQMPYGCGEQNMVLFAPNIYVLDYLNETQQLTPEIKSKAIGYLNTGYQRQLNYKHYDGSYSTFGERYGRNQGNTWLTAFVLKTFAQARAYIFIDEAHITQALIWLSQRQKDNGCFRSSGSLLNNAIKGGVEDEVTLSAYITIALLEIPLTVTHPVVRNALFCLESAWKTAQEGDHGSHVYTKALLAYAFALAGNQDKRKEVLKSLNEEAVKKDNSVHWERPQKPKAPVGHFYEPQAPSAEVEMTSYVLLAYLTAQPAPTSEDLTSATNIVKWITKQQNAQGGFSSTQDTVVALHALSKYGAATFTRTGKAAQVTIQSSGTFSSKFQVDNNNRLLLQQVSLPELPGEYSMKVTGEGCVYLQTSLKYNILPEKEEFPFALGVQTLPQTCDEPKAHTSFQISLSVSYTGSRSASNMAIVDVKMVSGFIPLKPTVKMLERSNHVSRTEVSSNHVLIYLDKVSNQTLSLFFTVLQDVPVRDLKPAIVKVYDYYETDEFAIAEYNAPCSKDLGNA'}, {'label': '>NP_000006.2 arylamine N-acetyltransferase 2 [Homo sapiens]', 'seq': 'MDIEAYFERIGYKNSRNKLDLETLTDILEHQIRAVPFENLNMHCGQAMELGLEAIFDHIVRRNRGGWCLQVNQLLYWALTTIGFQTTMLGGYFYIPPVNKYSTGMVHLLLQVTIDGRNYIVDAGSGSSSQMWQPLELISGKDQPQVPCIFCLTEERGIWYLDQIRREQYITNKEFLNSHLLPKKKHQKIYLFTLEPRTIEDFESMNTYLQTSPTSSFITTSFCSLQTPEGVYCLVGFILTYRKFNYKDNTDLVEFKTLTEEEVEEVLRNIFKISLGRNLVPKPGDGSLTI'}, {'label': '>YP_003024037.1 NADH dehydrogenase subunit 6 (mitochondrion) [Homo sapiens]', 'seq': 'MMYALFLLSVGLVMGFVGFSSKPSPIYGGLVLIVSGVVGCVIILNFGGGYMGLMVFLIYLGGMMVVFGYTTAMAIEEYPEAWGSGVEVLVSVLVGLAMEVGLVLWVKEYDGVVVVVNFNSVGSWMIYEGEGSGLIREDPIGAGALYDYGRWLVVVTGWTLFVGVYIVIEIARGN'}, {'label': '>YP_003024038.1 cytochrome b (mitochondrion) [Homo sapiens]', 'seq': 'MTPMRKTNPLMKLINHSFIDLPTPSNISAWWNFGSLLGACLILQITTGLFLAMHYSPDASTAFSSIAHITRDVNYGWIIRYLHANGASMFFICLFLHIGRGLYYGSFLYSETWNIGIILLLATMATAFMGYVLPWGQMSFWGATVITNLLSAIPYIGTDLVQWIWGGYSVDSPTLTRFFTFHFILPFIIAALATLHLLFLHETGSNNPLGITSHSDKITFHPYYTIKDALGLLLFLLSLMTLTLFSPDLLGDPDNYTLANPLNTPPHIKPEWYFLFAYTILRSVPNKLGGVLALLLSILILAMIPILHMSKQQSMMFRPLSQSLYWLLAADLLILTWIGGQPVSYPFTIIGQVASVLYFTTILILMPTISLIENKMLKWA'}]\n"
     ]
    }
   ],
   "source": [
    "# GLOBALS\n",
    "import sys\n",
    "import json\n",
    "\n",
    "# globalDictionary : list of dictionary with nonfastaprotein data from fasta to nonfasta\n",
    "fastaProtein = [ {'label': '>NP_000005.3 alpha-2-macroglobulin isoform a precursor [Homo sapiens]', 'seq': 'MGKNKLLHPSLVLLLLVLLPTDASVSGKPQYMVLVPSLLHTETTEKGCVLLSYLNETVTVSASLESVRGNRSLFTDLEAENDVLHCVAFAVPKSSSNEEVMFLTVQVKGPTQEFKKRTTVMVKNEDSLVFVQTDKSIYKPGQTVKFRVVSMDENFHPLNELIPLVYIQDPKGNRIAQWQSFQLEGGLKQFSFPLSSEPFQGSYKVVVQKKSGGRTEHPFTVEEFVLPKFEVQVTVPKIITILEEEMNVSVCGLYTYGKPVPGHVTVSICRKYSDASDCHGEDSQAFCEKFSGQLNSHGCFYQQVKTKVFQLKRKEYEMKLHTEAQIQEEGTVVELTGRQSSEITRTITKLSFVKVDSHFRQGIPFFGQVRLVDGKGVPIPNKVIFIRGNEANYYSNATTDEHGLVQFSINTTNVMGTSLTVRVNYKDRSPCYGYQWVSEEHEEAHHTAYLVFSPSKSFVHLEPMSHELPCGHTQTVQAHYILNGGTLLGLKKLSFYYLIMAKGGIVRTGTHGLLVKQEDMKGHFSISIPVKSDIAPVARLLIYAVLPTGDVIGDSAKYDVENCLANKVDLSFSPSQSLPASHAHLRVTAAPQSVCALRAVDQSVLLMKPDAELSASSVYNLLPEKDLTGFPGPLNDQDNEDCINRHNVYINGITYTPVSSTNEKDMYSFLEDMGLKAFTNSKIRKPKMCPQLQQYEMHGPEGLRVGFYESDVMGRGHARLVHVEEPHTETVRKYFPETWIWDLVVVNSAGVAEVGVTVPDTITEWKAGAFCLSEDAGLGISSTASLRAFQPFFVELTMPYSVIRGEAFTLKATVLNYLPKCIRVSVQLEASPAFLAVPVEKEQAPHCICANGRQTVSWAVTPKSLGNVNFTVSAEALESQELCGTEVPSVPEHGRKDTVIKPLLVEPEGLEKETTFNSLLCPSGGEVSEELSLKLPPNVVEESARASVSVLGDILGSAMQNTQNLLQMPYGCGEQNMVLFAPNIYVLDYLNETQQLTPEIKSKAIGYLNTGYQRQLNYKHYDGSYSTFGERYGRNQGNTWLTAFVLKTFAQARAYIFIDEAHITQALIWLSQRQKDNGCFRSSGSLLNNAIKGGVEDEVTLSAYITIALLEIPLTVTHPVVRNALFCLESAWKTAQEGDHGSHVYTKALLAYAFALAGNQDKRKEVLKSLNEEAVKKDNSVHWERPQKPKAPVGHFYEPQAPSAEVEMTSYVLLAYLTAQPAPTSEDLTSATNIVKWITKQQNAQGGFSSTQDTVVALHALSKYGAATFTRTGKAAQVTIQSSGTFSSKFQVDNNNRLLLQQVSLPELPGEYSMKVTGEGCVYLQTSLKYNILPEKEEFPFALGVQTLPQTCDEPKAHTSFQISLSVSYTGSRSASNMAIVDVKMVSGFIPLKPTVKMLERSNHVSRTEVSSNHVLIYLDKVSNQTLSLFFTVLQDVPVRDLKPAIVKVYDYYETDEFAIAEYNAPCSKDLGNA'}, {'label': '>NP_000006.2 arylamine N-acetyltransferase 2 [Homo sapiens]', 'seq': 'MDIEAYFERIGYKNSRNKLDLETLTDILEHQIRAVPFENLNMHCGQAMELGLEAIFDHIVRRNRGGWCLQVNQLLYWALTTIGFQTTMLGGYFYIPPVNKYSTGMVHLLLQVTIDGRNYIVDAGSGSSSQMWQPLELISGKDQPQVPCIFCLTEERGIWYLDQIRREQYITNKEFLNSHLLPKKKHQKIYLFTLEPRTIEDFESMNTYLQTSPTSSFITTSFCSLQTPEGVYCLVGFILTYRKFNYKDNTDLVEFKTLTEEEVEEVLRNIFKISLGRNLVPKPGDGSLTI'}, {'label': '>YP_003024037.1 NADH dehydrogenase subunit 6 (mitochondrion) [Homo sapiens]', 'seq': 'MMYALFLLSVGLVMGFVGFSSKPSPIYGGLVLIVSGVVGCVIILNFGGGYMGLMVFLIYLGGMMVVFGYTTAMAIEEYPEAWGSGVEVLVSVLVGLAMEVGLVLWVKEYDGVVVVVNFNSVGSWMIYEGEGSGLIREDPIGAGALYDYGRWLVVVTGWTLFVGVYIVIEIARGN'}, {'label': '>YP_003024038.1 cytochrome b (mitochondrion) [Homo sapiens]', 'seq': 'MTPMRKTNPLMKLINHSFIDLPTPSNISAWWNFGSLLGACLILQITTGLFLAMHYSPDASTAFSSIAHITRDVNYGWIIRYLHANGASMFFICLFLHIGRGLYYGSFLYSETWNIGIILLLATMATAFMGYVLPWGQMSFWGATVITNLLSAIPYIGTDLVQWIWGGYSVDSPTLTRFFTFHFILPFIIAALATLHLLFLHETGSNNPLGITSHSDKITFHPYYTIKDALGLLLFLLSLMTLTLFSPDLLGDPDNYTLANPLNTPPHIKPEWYFLFAYTILRSVPNKLGGVLALLLSILILAMIPILHMSKQQSMMFRPLSQSLYWLLAADLLILTWIGGQPVSYPFTIIGQVASVLYFTTILILMPTISLIENKMLKWA'}]\n",
    "inputPath = 'C:\\\\Users\\\\creeperpandatrex\\\\Documents\\\\1000genomes\\\\DATA\\\\38.p14\\\\'\n",
    "inputFile = 'GCF_000001405.40_GRCh38.p14_protein.faa.gz'\n",
    "print(fastaProtein)"
   ]
  },
  {
   "cell_type": "code",
   "execution_count": null,
   "metadata": {},
   "outputs": [],
   "source": [
    "def print2file (myObj, result):\n",
    "    out = open(myObj, 'w')\n",
    "    out.write(result)\n",
    "\n",
    "print2file('test.txt', \"fastaProtein 6.10.2024\")\n",
    "print2file(inputPath + 'test.txt', \"fastaProtein 6.10.2024\")\n",
    "\n",
    "print2file('test.txt', json.dumps(fastaProtein))\n",
    "\n",
    "# print2file(inputPath + inputFile + '.nofaa', json.dumps(globalDictionary))\n",
    "\n",
    "print(os.getenv('SEED'))"
   ]
  }
 ],
 "metadata": {
  "kernelspec": {
   "display_name": "base",
   "language": "python",
   "name": "python3"
  },
  "language_info": {
   "codemirror_mode": {
    "name": "ipython",
    "version": 3
   },
   "file_extension": ".py",
   "mimetype": "text/x-python",
   "name": "python",
   "nbconvert_exporter": "python",
   "pygments_lexer": "ipython3",
   "version": "3.12.3"
  }
 },
 "nbformat": 4,
 "nbformat_minor": 2
}
