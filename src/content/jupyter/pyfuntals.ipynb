{
 "cells": [
  {
   "cell_type": "markdown",
   "metadata": {},
   "source": [
    "# Python Fundamentals from W3S\n",
    "\n",
    "## Content"
   ]
  },
  {
   "cell_type": "code",
   "execution_count": 25,
   "metadata": {},
   "outputs": [
    {
     "name": "stdout",
     "output_type": "stream",
     "text": [
      "3.11.7 | packaged by Anaconda, Inc. | (main, Dec 15 2023, 18:05:47) [MSC v.1916 64 bit (AMD64)]\n"
     ]
    }
   ],
   "source": [
    "import sys\n",
    "print(sys.version)"
   ]
  },
  {
   "cell_type": "markdown",
   "metadata": {},
   "source": [
    "## Casting"
   ]
  },
  {
   "cell_type": "code",
   "execution_count": 26,
   "metadata": {},
   "outputs": [
    {
     "name": "stdout",
     "output_type": "stream",
     "text": [
      "3 3 3.0\n",
      "<class 'str'>\n",
      "<class 'int'>\n"
     ]
    }
   ],
   "source": [
    "x = str(3)\n",
    "y = int(3)\n",
    "z = float(3)\n",
    "print(x,y,z)\n",
    "print(type(x))\n",
    "print(type(y))"
   ]
  },
  {
   "cell_type": "markdown",
   "metadata": {},
   "source": [
    "## Unpack a Collection"
   ]
  },
  {
   "cell_type": "code",
   "execution_count": 27,
   "metadata": {},
   "outputs": [
    {
     "name": "stdout",
     "output_type": "stream",
     "text": [
      "apple banana cherry\n"
     ]
    }
   ],
   "source": [
    "fruits = ['apple', 'banana', 'cherry']\n",
    "x, y, z = fruits\n",
    "print(x, y, z)"
   ]
  },
  {
   "cell_type": "markdown",
   "metadata": {},
   "source": [
    "## Global Variables"
   ]
  },
  {
   "cell_type": "code",
   "execution_count": 28,
   "metadata": {},
   "outputs": [
    {
     "name": "stdout",
     "output_type": "stream",
     "text": [
      "Python is awesome\n"
     ]
    }
   ],
   "source": [
    "x = 'awesome'\n",
    "\n",
    "def myFunc():\n",
    "    print('Python is ' + x)\n",
    "\n",
    "myFunc()"
   ]
  },
  {
   "cell_type": "markdown",
   "metadata": {},
   "source": [
    "## Global vs Local variables"
   ]
  },
  {
   "cell_type": "code",
   "execution_count": 29,
   "metadata": {},
   "outputs": [
    {
     "name": "stdout",
     "output_type": "stream",
     "text": [
      "Python is fantastic\n",
      "Python is awesome\n"
     ]
    }
   ],
   "source": [
    "x = 'awesome'\n",
    "\n",
    "def myFunc():\n",
    "    x = 'fantastic'\n",
    "    print('Python is ' + x)\n",
    "\n",
    "myFunc()\n",
    "\n",
    "print('Python is ' + x)"
   ]
  },
  {
   "cell_type": "markdown",
   "metadata": {},
   "source": [
    "## Data Types\n",
    "\n",
    "1. string: str\n",
    "1. Numeric: int, float, complex\n",
    "1. Sequence type: list, tuple, range\n",
    "1. Mapping type: dict\n",
    "1. Set types: set, frozenset\n",
    "1. bool\n",
    "1. Binary: bytes, bytearray, memoryview\n",
    "1. None type: NoneType"
   ]
  },
  {
   "cell_type": "code",
   "execution_count": 30,
   "metadata": {},
   "outputs": [
    {
     "name": "stdout",
     "output_type": "stream",
     "text": [
      "range(0, 6)\n",
      "b'hello'\n"
     ]
    }
   ],
   "source": [
    "x = range(6)\n",
    "y = b\"hello\"\n",
    "print(x)\n",
    "print(y)"
   ]
  },
  {
   "cell_type": "markdown",
   "metadata": {},
   "source": [
    "## Random Generator"
   ]
  },
  {
   "cell_type": "code",
   "execution_count": 31,
   "metadata": {},
   "outputs": [
    {
     "name": "stdout",
     "output_type": "stream",
     "text": [
      "4 b\n",
      "6 a\n",
      "9 n\n",
      "2 a\n",
      "2 n\n",
      "4 a\n"
     ]
    }
   ],
   "source": [
    "import random\n",
    "\n",
    "for  i in 'banana':\n",
    "    print(random.randrange(1, 10), i)"
   ]
  },
  {
   "cell_type": "markdown",
   "metadata": {},
   "source": [
    "## Check String"
   ]
  },
  {
   "cell_type": "code",
   "execution_count": 32,
   "metadata": {},
   "outputs": [
    {
     "name": "stdout",
     "output_type": "stream",
     "text": [
      "True\n"
     ]
    }
   ],
   "source": [
    "txt = 'The best things in life are free!!'\n",
    "print('free' in txt)"
   ]
  },
  {
   "cell_type": "markdown",
   "metadata": {},
   "source": [
    "## String Slicing\n",
    "\n",
    "from start to end (not included end)"
   ]
  },
  {
   "cell_type": "code",
   "execution_count": 37,
   "metadata": {},
   "outputs": [
    {
     "name": "stdout",
     "output_type": "stream",
     "text": [
      "llo\n",
      "Hello\n",
      "llo World!\n",
      "orld!\n",
      "orl\n"
     ]
    }
   ],
   "source": [
    "b = 'Hello World!'\n",
    "print(b[2:5])\n",
    "print(b[:5])\n",
    "print(b[2:])\n",
    "print(b[-5:])\n",
    "print(b[-5:-2])"
   ]
  },
  {
   "cell_type": "markdown",
   "metadata": {},
   "source": [
    "## Pandas: panel data\n",
    "\n",
    "It is a library created by Wes McKinney in 2008. It allows to clean messy data sets, and make them readable and relevant.\n",
    "Analyze data based on statistical theories.\n",
    "\n",
    "### questions addressed:\n",
    "\n",
    "1. is there a correlation between two or more columns?\n",
    "1. what is the average value?\n",
    "1. what is the max/min values?\n",
    "1. is it possible to delete incomplete/non relevant rows? (is it possible to clean data?)"
   ]
  },
  {
   "cell_type": "code",
   "execution_count": 47,
   "metadata": {},
   "outputs": [
    {
     "name": "stdout",
     "output_type": "stream",
     "text": [
      "   Duration   Pulse   Maxpulse   Calories\n",
      "0        60     110         23         31\n",
      "1       242      12         42       4232\n",
      "2        12     323         42         23\n",
      "3         4      23          2          1\n",
      "4       424       2          1         32\n",
      "    cars  passings\n",
      "0    BMW         3\n",
      "1  Volvo         7\n",
      "2   Ford         2\n",
      "first     1\n",
      "middle    7\n",
      "last      2\n",
      "dtype: int64\n",
      "7\n",
      "cars        [BMW, Volvo, Ford]\n",
      "passings             [3, 7, 2]\n",
      "dtype: object\n"
     ]
    }
   ],
   "source": [
    "import pandas as pd\n",
    "\n",
    "df = pd.read_csv('data.csv')\n",
    "print(df.to_string())\n",
    "\n",
    "x = {\n",
    "    'cars': ['BMW', 'Volvo', 'Ford'],\n",
    "    'passings': [3, 7, 2]\n",
    "}\n",
    "y = pd.DataFrame(x)\n",
    "print(y)\n",
    "\n",
    "z = [1,7,2]\n",
    "\n",
    "my = pd.Series(z, index=['first', 'middle', 'last'])\n",
    "# my = pd.Series(x in passings, index=['first', 'middle', 'last'])\n",
    "print(my)\n",
    "print(my['middle'])\n",
    "\n",
    "my2 = pd.Series(x)\n",
    "print(my2) #keys become labels"
   ]
  },
  {
   "cell_type": "markdown",
   "metadata": {},
   "source": [
    "### DataFrames : multi-dimensional tables\n",
    "\n",
    "Series is like a column, a DataFrame is the whole table."
   ]
  },
  {
   "cell_type": "markdown",
   "metadata": {},
   "source": [
    "## Python Collections (Arrays)\n",
    "\n",
    "There are four collection data types in the Python programming language:\n",
    "\n",
    "1. List is a collection which is ordered and changeable. Allows duplicate members.\n",
    "1. Tuple is a collection which is ordered and unchangeable. Allows duplicate members.\n",
    "1. Set is a collection which is unordered, unchangeable*, and unindexed. No duplicate members.\n",
    "1. Dictionary is a collection which is ordered** and changeable. No duplicate members."
   ]
  },
  {
   "cell_type": "code",
   "execution_count": 33,
   "metadata": {},
   "outputs": [
    {
     "name": "stdout",
     "output_type": "stream",
     "text": [
      "[{'label': '>NP_000005.3 alpha-2-macroglobulin isoform a precursor [Homo sapiens]', 'seq': 'MGKNKLLHPSLVLLLLVLLPTDASVSGKPQYMVLVPSLLHTETTEKGCVLLSYLNETVTVSASLESVRGNRSLFTDLEAENDVLHCVAFAVPKSSSNEEVMFLTVQVKGPTQEFKKRTTVMVKNEDSLVFVQTDKSIYKPGQTVKFRVVSMDENFHPLNELIPLVYIQDPKGNRIAQWQSFQLEGGLKQFSFPLSSEPFQGSYKVVVQKKSGGRTEHPFTVEEFVLPKFEVQVTVPKIITILEEEMNVSVCGLYTYGKPVPGHVTVSICRKYSDASDCHGEDSQAFCEKFSGQLNSHGCFYQQVKTKVFQLKRKEYEMKLHTEAQIQEEGTVVELTGRQSSEITRTITKLSFVKVDSHFRQGIPFFGQVRLVDGKGVPIPNKVIFIRGNEANYYSNATTDEHGLVQFSINTTNVMGTSLTVRVNYKDRSPCYGYQWVSEEHEEAHHTAYLVFSPSKSFVHLEPMSHELPCGHTQTVQAHYILNGGTLLGLKKLSFYYLIMAKGGIVRTGTHGLLVKQEDMKGHFSISIPVKSDIAPVARLLIYAVLPTGDVIGDSAKYDVENCLANKVDLSFSPSQSLPASHAHLRVTAAPQSVCALRAVDQSVLLMKPDAELSASSVYNLLPEKDLTGFPGPLNDQDNEDCINRHNVYINGITYTPVSSTNEKDMYSFLEDMGLKAFTNSKIRKPKMCPQLQQYEMHGPEGLRVGFYESDVMGRGHARLVHVEEPHTETVRKYFPETWIWDLVVVNSAGVAEVGVTVPDTITEWKAGAFCLSEDAGLGISSTASLRAFQPFFVELTMPYSVIRGEAFTLKATVLNYLPKCIRVSVQLEASPAFLAVPVEKEQAPHCICANGRQTVSWAVTPKSLGNVNFTVSAEALESQELCGTEVPSVPEHGRKDTVIKPLLVEPEGLEKETTFNSLLCPSGGEVSEELSLKLPPNVVEESARASVSVLGDILGSAMQNTQNLLQMPYGCGEQNMVLFAPNIYVLDYLNETQQLTPEIKSKAIGYLNTGYQRQLNYKHYDGSYSTFGERYGRNQGNTWLTAFVLKTFAQARAYIFIDEAHITQALIWLSQRQKDNGCFRSSGSLLNNAIKGGVEDEVTLSAYITIALLEIPLTVTHPVVRNALFCLESAWKTAQEGDHGSHVYTKALLAYAFALAGNQDKRKEVLKSLNEEAVKKDNSVHWERPQKPKAPVGHFYEPQAPSAEVEMTSYVLLAYLTAQPAPTSEDLTSATNIVKWITKQQNAQGGFSSTQDTVVALHALSKYGAATFTRTGKAAQVTIQSSGTFSSKFQVDNNNRLLLQQVSLPELPGEYSMKVTGEGCVYLQTSLKYNILPEKEEFPFALGVQTLPQTCDEPKAHTSFQISLSVSYTGSRSASNMAIVDVKMVSGFIPLKPTVKMLERSNHVSRTEVSSNHVLIYLDKVSNQTLSLFFTVLQDVPVRDLKPAIVKVYDYYETDEFAIAEYNAPCSKDLGNA'}, {'label': '>NP_000006.2 arylamine N-acetyltransferase 2 [Homo sapiens]', 'seq': 'MDIEAYFERIGYKNSRNKLDLETLTDILEHQIRAVPFENLNMHCGQAMELGLEAIFDHIVRRNRGGWCLQVNQLLYWALTTIGFQTTMLGGYFYIPPVNKYSTGMVHLLLQVTIDGRNYIVDAGSGSSSQMWQPLELISGKDQPQVPCIFCLTEERGIWYLDQIRREQYITNKEFLNSHLLPKKKHQKIYLFTLEPRTIEDFESMNTYLQTSPTSSFITTSFCSLQTPEGVYCLVGFILTYRKFNYKDNTDLVEFKTLTEEEVEEVLRNIFKISLGRNLVPKPGDGSLTI'}, {'label': '>YP_003024037.1 NADH dehydrogenase subunit 6 (mitochondrion) [Homo sapiens]', 'seq': 'MMYALFLLSVGLVMGFVGFSSKPSPIYGGLVLIVSGVVGCVIILNFGGGYMGLMVFLIYLGGMMVVFGYTTAMAIEEYPEAWGSGVEVLVSVLVGLAMEVGLVLWVKEYDGVVVVVNFNSVGSWMIYEGEGSGLIREDPIGAGALYDYGRWLVVVTGWTLFVGVYIVIEIARGN'}, {'label': '>YP_003024038.1 cytochrome b (mitochondrion) [Homo sapiens]', 'seq': 'MTPMRKTNPLMKLINHSFIDLPTPSNISAWWNFGSLLGACLILQITTGLFLAMHYSPDASTAFSSIAHITRDVNYGWIIRYLHANGASMFFICLFLHIGRGLYYGSFLYSETWNIGIILLLATMATAFMGYVLPWGQMSFWGATVITNLLSAIPYIGTDLVQWIWGGYSVDSPTLTRFFTFHFILPFIIAALATLHLLFLHETGSNNPLGITSHSDKITFHPYYTIKDALGLLLFLLSLMTLTLFSPDLLGDPDNYTLANPLNTPPHIKPEWYFLFAYTILRSVPNKLGGVLALLLSILILAMIPILHMSKQQSMMFRPLSQSLYWLLAADLLILTWIGGQPVSYPFTIIGQVASVLYFTTILILMPTISLIENKMLKWA'}]\n"
     ]
    }
   ],
   "source": [
    "# GLOBALS\n",
    "import sys\n",
    "import json\n",
    "\n",
    "fastaProtein = [ {'label': '>NP_000005.3 alpha-2-macroglobulin isoform a precursor [Homo sapiens]', 'seq': 'MGKNKLLHPSLVLLLLVLLPTDASVSGKPQYMVLVPSLLHTETTEKGCVLLSYLNETVTVSASLESVRGNRSLFTDLEAENDVLHCVAFAVPKSSSNEEVMFLTVQVKGPTQEFKKRTTVMVKNEDSLVFVQTDKSIYKPGQTVKFRVVSMDENFHPLNELIPLVYIQDPKGNRIAQWQSFQLEGGLKQFSFPLSSEPFQGSYKVVVQKKSGGRTEHPFTVEEFVLPKFEVQVTVPKIITILEEEMNVSVCGLYTYGKPVPGHVTVSICRKYSDASDCHGEDSQAFCEKFSGQLNSHGCFYQQVKTKVFQLKRKEYEMKLHTEAQIQEEGTVVELTGRQSSEITRTITKLSFVKVDSHFRQGIPFFGQVRLVDGKGVPIPNKVIFIRGNEANYYSNATTDEHGLVQFSINTTNVMGTSLTVRVNYKDRSPCYGYQWVSEEHEEAHHTAYLVFSPSKSFVHLEPMSHELPCGHTQTVQAHYILNGGTLLGLKKLSFYYLIMAKGGIVRTGTHGLLVKQEDMKGHFSISIPVKSDIAPVARLLIYAVLPTGDVIGDSAKYDVENCLANKVDLSFSPSQSLPASHAHLRVTAAPQSVCALRAVDQSVLLMKPDAELSASSVYNLLPEKDLTGFPGPLNDQDNEDCINRHNVYINGITYTPVSSTNEKDMYSFLEDMGLKAFTNSKIRKPKMCPQLQQYEMHGPEGLRVGFYESDVMGRGHARLVHVEEPHTETVRKYFPETWIWDLVVVNSAGVAEVGVTVPDTITEWKAGAFCLSEDAGLGISSTASLRAFQPFFVELTMPYSVIRGEAFTLKATVLNYLPKCIRVSVQLEASPAFLAVPVEKEQAPHCICANGRQTVSWAVTPKSLGNVNFTVSAEALESQELCGTEVPSVPEHGRKDTVIKPLLVEPEGLEKETTFNSLLCPSGGEVSEELSLKLPPNVVEESARASVSVLGDILGSAMQNTQNLLQMPYGCGEQNMVLFAPNIYVLDYLNETQQLTPEIKSKAIGYLNTGYQRQLNYKHYDGSYSTFGERYGRNQGNTWLTAFVLKTFAQARAYIFIDEAHITQALIWLSQRQKDNGCFRSSGSLLNNAIKGGVEDEVTLSAYITIALLEIPLTVTHPVVRNALFCLESAWKTAQEGDHGSHVYTKALLAYAFALAGNQDKRKEVLKSLNEEAVKKDNSVHWERPQKPKAPVGHFYEPQAPSAEVEMTSYVLLAYLTAQPAPTSEDLTSATNIVKWITKQQNAQGGFSSTQDTVVALHALSKYGAATFTRTGKAAQVTIQSSGTFSSKFQVDNNNRLLLQQVSLPELPGEYSMKVTGEGCVYLQTSLKYNILPEKEEFPFALGVQTLPQTCDEPKAHTSFQISLSVSYTGSRSASNMAIVDVKMVSGFIPLKPTVKMLERSNHVSRTEVSSNHVLIYLDKVSNQTLSLFFTVLQDVPVRDLKPAIVKVYDYYETDEFAIAEYNAPCSKDLGNA'}, {'label': '>NP_000006.2 arylamine N-acetyltransferase 2 [Homo sapiens]', 'seq': 'MDIEAYFERIGYKNSRNKLDLETLTDILEHQIRAVPFENLNMHCGQAMELGLEAIFDHIVRRNRGGWCLQVNQLLYWALTTIGFQTTMLGGYFYIPPVNKYSTGMVHLLLQVTIDGRNYIVDAGSGSSSQMWQPLELISGKDQPQVPCIFCLTEERGIWYLDQIRREQYITNKEFLNSHLLPKKKHQKIYLFTLEPRTIEDFESMNTYLQTSPTSSFITTSFCSLQTPEGVYCLVGFILTYRKFNYKDNTDLVEFKTLTEEEVEEVLRNIFKISLGRNLVPKPGDGSLTI'}, {'label': '>YP_003024037.1 NADH dehydrogenase subunit 6 (mitochondrion) [Homo sapiens]', 'seq': 'MMYALFLLSVGLVMGFVGFSSKPSPIYGGLVLIVSGVVGCVIILNFGGGYMGLMVFLIYLGGMMVVFGYTTAMAIEEYPEAWGSGVEVLVSVLVGLAMEVGLVLWVKEYDGVVVVVNFNSVGSWMIYEGEGSGLIREDPIGAGALYDYGRWLVVVTGWTLFVGVYIVIEIARGN'}, {'label': '>YP_003024038.1 cytochrome b (mitochondrion) [Homo sapiens]', 'seq': 'MTPMRKTNPLMKLINHSFIDLPTPSNISAWWNFGSLLGACLILQITTGLFLAMHYSPDASTAFSSIAHITRDVNYGWIIRYLHANGASMFFICLFLHIGRGLYYGSFLYSETWNIGIILLLATMATAFMGYVLPWGQMSFWGATVITNLLSAIPYIGTDLVQWIWGGYSVDSPTLTRFFTFHFILPFIIAALATLHLLFLHETGSNNPLGITSHSDKITFHPYYTIKDALGLLLFLLSLMTLTLFSPDLLGDPDNYTLANPLNTPPHIKPEWYFLFAYTILRSVPNKLGGVLALLLSILILAMIPILHMSKQQSMMFRPLSQSLYWLLAADLLILTWIGGQPVSYPFTIIGQVASVLYFTTILILMPTISLIENKMLKWA'}]\n",
    "inputPath = 'C:\\\\Users\\\\creeperpandatrex\\\\Documents\\\\1000genomes\\\\DATA\\\\38.p14\\\\'\n",
    "inputFile = 'GCF_000001405.40_GRCh38.p14_protein.faa.gz'\n",
    "print(fastaProtein)"
   ]
  },
  {
   "cell_type": "markdown",
   "metadata": {},
   "source": [
    "## fastaProtein list of dictionaries\n",
    "\n",
    "[{'label': '>NP_000005.3 alpha-2-macroglobulin isoform a precursor [Homo sapiens]', 'seq': 'MGKNKLLHPSLVLLLLVLLPTDASVSGKPQYMVLVPSLLHTETTEKGCVLLSYLNETVTVSASLESVRGNRSLFTDLEAENDVLHCVAFAVPKSSSNEEVMFLTVQVKGPTQEFKKRTTVMVKNEDSLVFVQTDKSIYKPGQTVKFRVVSMDENFHPLNELIPLVYIQDPKGNRIAQWQSFQLEGGLKQFSFPLSSEPFQGSYKVVVQKKSGGRTEHPFTVEEFVLPKFEVQVTVPKIITILEEEMNVSVCGLYTYGKPVPGHVTVSICRKYSDASDCHGEDSQAFCEKFSGQLNSHGCFYQQVKTKVFQLKRKEYEMKLHTEAQIQEEGTVVELTGRQSSEITRTITKLSFVKVDSHFRQGIPFFGQVRLVDGKGVPIPNKVIFIRGNEANYYSNATTDEHGLVQFSINTTNVMGTSLTVRVNYKDRSPCYGYQWVSEEHEEAHHTAYLVFSPSKSFVHLEPMSHELPCGHTQTVQAHYILNGGTLLGLKKLSFYYLIMAKGGIVRTGTHGLLVKQEDMKGHFSISIPVKSDIAPVARLLIYAVLPTGDVIGDSAKYDVENCLANKVDLSFSPSQSLPASHAHLRVTAAPQSVCALRAVDQSVLLMKPDAELSASSVYNLLPEKDLTGFPGPLNDQDNEDCINRHNVYINGITYTPVSSTNEKDMYSFLEDMGLKAFTNSKIRKPKMCPQLQQYEMHGPEGLRVGFYESDVMGRGHARLVHVEEPHTETVRKYFPETWIWDLVVVNSAGVAEVGVTVPDTITEWKAGAFCLSEDAGLGISSTASLRAFQPFFVELTMPYSVIRGEAFTLKATVLNYLPKCIRVSVQLEASPAFLAVPVEKEQAPHCICANGRQTVSWAVTPKSLGNVNFTVSAEALESQELCGTEVPSVPEHGRKDTVIKPLLVEPEGLEKETTFNSLLCPSGGEVSEELSLKLPPNVVEESARASVSVLGDILGSAMQNTQNLLQMPYGCGEQNMVLFAPNIYVLDYLNETQQLTPEIKSKAIGYLNTGYQRQLNYKHYDGSYSTFGERYGRNQGNTWLTAFVLKTFAQARAYIFIDEAHITQALIWLSQRQKDNGCFRSSGSLLNNAIKGGVEDEVTLSAYITIALLEIPLTVTHPVVRNALFCLESAWKTAQEGDHGSHVYTKALLAYAFALAGNQDKRKEVLKSLNEEAVKKDNSVHWERPQKPKAPVGHFYEPQAPSAEVEMTSYVLLAYLTAQPAPTSEDLTSATNIVKWITKQQNAQGGFSSTQDTVVALHALSKYGAATFTRTGKAAQVTIQSSGTFSSKFQVDNNNRLLLQQVSLPELPGEYSMKVTGEGCVYLQTSLKYNILPEKEEFPFALGVQTLPQTCDEPKAHTSFQISLSVSYTGSRSASNMAIVDVKMVSGFIPLKPTVKMLERSNHVSRTEVSSNHVLIYLDKVSNQTLSLFFTVLQDVPVRDLKPAIVKVYDYYETDEFAIAEYNAPCSKDLGNA'}, {'label': '>NP_000006.2 arylamine N-acetyltransferase 2 [Homo sapiens]', 'seq': 'MDIEAYFERIGYKNSRNKLDLETLTDILEHQIRAVPFENLNMHCGQAMELGLEAIFDHIVRRNRGGWCLQVNQLLYWALTTIGFQTTMLGGYFYIPPVNKYSTGMVHLLLQVTIDGRNYIVDAGSGSSSQMWQPLELISGKDQPQVPCIFCLTEERGIWYLDQIRREQYITNKEFLNSHLLPKKKHQKIYLFTLEPRTIEDFESMNTYLQTSPTSSFITTSFCSLQTPEGVYCLVGFILTYRKFNYKDNTDLVEFKTLTEEEVEEVLRNIFKISLGRNLVPKPGDGSLTI'}, {'label': '>YP_003024037.1 NADH dehydrogenase subunit 6 (mitochondrion) [Homo sapiens]', 'seq': 'MMYALFLLSVGLVMGFVGFSSKPSPIYGGLVLIVSGVVGCVIILNFGGGYMGLMVFLIYLGGMMVVFGYTTAMAIEEYPEAWGSGVEVLVSVLVGLAMEVGLVLWVKEYDGVVVVVNFNSVGSWMIYEGEGSGLIREDPIGAGALYDYGRWLVVVTGWTLFVGVYIVIEIARGN'}, {'label': '>YP_003024038.1 cytochrome b (mitochondrion) [Homo sapiens]', 'seq': 'MTPMRKTNPLMKLINHSFIDLPTPSNISAWWNFGSLLGACLILQITTGLFLAMHYSPDASTAFSSIAHITRDVNYGWIIRYLHANGASMFFICLFLHIGRGLYYGSFLYSETWNIGIILLLATMATAFMGYVLPWGQMSFWGATVITNLLSAIPYIGTDLVQWIWGGYSVDSPTLTRFFTFHFILPFIIAALATLHLLFLHETGSNNPLGITSHSDKITFHPYYTIKDALGLLLFLLSLMTLTLFSPDLLGDPDNYTLANPLNTPPHIKPEWYFLFAYTILRSVPNKLGGVLALLLSILILAMIPILHMSKQQSMMFRPLSQSLYWLLAADLLILTWIGGQPVSYPFTIIGQVASVLYFTTILILMPTISLIENKMLKWA'}]\n"
   ]
  },
  {
   "cell_type": "code",
   "execution_count": 34,
   "metadata": {},
   "outputs": [
    {
     "name": "stdout",
     "output_type": "stream",
     "text": [
      "dict_keys(['label', 'seq'])\n",
      "4\n",
      "[{'label': '>NP_000005.3 alpha-2-macroglobulin isoform a precursor [Homo sapiens]', 'seq': 'MGKNKLLHPSLVLLLLVLLPTDASVSGKPQYMVLVPSLLHTETTEKGCVLLSYLNETVTVSASLESVRGNRSLFTDLEAENDVLHCVAFAVPKSSSNEEVMFLTVQVKGPTQEFKKRTTVMVKNEDSLVFVQTDKSIYKPGQTVKFRVVSMDENFHPLNELIPLVYIQDPKGNRIAQWQSFQLEGGLKQFSFPLSSEPFQGSYKVVVQKKSGGRTEHPFTVEEFVLPKFEVQVTVPKIITILEEEMNVSVCGLYTYGKPVPGHVTVSICRKYSDASDCHGEDSQAFCEKFSGQLNSHGCFYQQVKTKVFQLKRKEYEMKLHTEAQIQEEGTVVELTGRQSSEITRTITKLSFVKVDSHFRQGIPFFGQVRLVDGKGVPIPNKVIFIRGNEANYYSNATTDEHGLVQFSINTTNVMGTSLTVRVNYKDRSPCYGYQWVSEEHEEAHHTAYLVFSPSKSFVHLEPMSHELPCGHTQTVQAHYILNGGTLLGLKKLSFYYLIMAKGGIVRTGTHGLLVKQEDMKGHFSISIPVKSDIAPVARLLIYAVLPTGDVIGDSAKYDVENCLANKVDLSFSPSQSLPASHAHLRVTAAPQSVCALRAVDQSVLLMKPDAELSASSVYNLLPEKDLTGFPGPLNDQDNEDCINRHNVYINGITYTPVSSTNEKDMYSFLEDMGLKAFTNSKIRKPKMCPQLQQYEMHGPEGLRVGFYESDVMGRGHARLVHVEEPHTETVRKYFPETWIWDLVVVNSAGVAEVGVTVPDTITEWKAGAFCLSEDAGLGISSTASLRAFQPFFVELTMPYSVIRGEAFTLKATVLNYLPKCIRVSVQLEASPAFLAVPVEKEQAPHCICANGRQTVSWAVTPKSLGNVNFTVSAEALESQELCGTEVPSVPEHGRKDTVIKPLLVEPEGLEKETTFNSLLCPSGGEVSEELSLKLPPNVVEESARASVSVLGDILGSAMQNTQNLLQMPYGCGEQNMVLFAPNIYVLDYLNETQQLTPEIKSKAIGYLNTGYQRQLNYKHYDGSYSTFGERYGRNQGNTWLTAFVLKTFAQARAYIFIDEAHITQALIWLSQRQKDNGCFRSSGSLLNNAIKGGVEDEVTLSAYITIALLEIPLTVTHPVVRNALFCLESAWKTAQEGDHGSHVYTKALLAYAFALAGNQDKRKEVLKSLNEEAVKKDNSVHWERPQKPKAPVGHFYEPQAPSAEVEMTSYVLLAYLTAQPAPTSEDLTSATNIVKWITKQQNAQGGFSSTQDTVVALHALSKYGAATFTRTGKAAQVTIQSSGTFSSKFQVDNNNRLLLQQVSLPELPGEYSMKVTGEGCVYLQTSLKYNILPEKEEFPFALGVQTLPQTCDEPKAHTSFQISLSVSYTGSRSASNMAIVDVKMVSGFIPLKPTVKMLERSNHVSRTEVSSNHVLIYLDKVSNQTLSLFFTVLQDVPVRDLKPAIVKVYDYYETDEFAIAEYNAPCSKDLGNA'}, {'label': '>NP_000006.2 arylamine N-acetyltransferase 2 [Homo sapiens]', 'seq': 'MDIEAYFERIGYKNSRNKLDLETLTDILEHQIRAVPFENLNMHCGQAMELGLEAIFDHIVRRNRGGWCLQVNQLLYWALTTIGFQTTMLGGYFYIPPVNKYSTGMVHLLLQVTIDGRNYIVDAGSGSSSQMWQPLELISGKDQPQVPCIFCLTEERGIWYLDQIRREQYITNKEFLNSHLLPKKKHQKIYLFTLEPRTIEDFESMNTYLQTSPTSSFITTSFCSLQTPEGVYCLVGFILTYRKFNYKDNTDLVEFKTLTEEEVEEVLRNIFKISLGRNLVPKPGDGSLTI'}, {'label': '>YP_003024037.1 NADH dehydrogenase subunit 6 (mitochondrion) [Homo sapiens]', 'seq': 'MMYALFLLSVGLVMGFVGFSSKPSPIYGGLVLIVSGVVGCVIILNFGGGYMGLMVFLIYLGGMMVVFGYTTAMAIEEYPEAWGSGVEVLVSVLVGLAMEVGLVLWVKEYDGVVVVVNFNSVGSWMIYEGEGSGLIREDPIGAGALYDYGRWLVVVTGWTLFVGVYIVIEIARGN'}, {'label': '>YP_003024038.1 cytochrome b (mitochondrion) [Homo sapiens]', 'seq': 'MTPMRKTNPLMKLINHSFIDLPTPSNISAWWNFGSLLGACLILQITTGLFLAMHYSPDASTAFSSIAHITRDVNYGWIIRYLHANGASMFFICLFLHIGRGLYYGSFLYSETWNIGIILLLATMATAFMGYVLPWGQMSFWGATVITNLLSAIPYIGTDLVQWIWGGYSVDSPTLTRFFTFHFILPFIIAALATLHLLFLHETGSNNPLGITSHSDKITFHPYYTIKDALGLLLFLLSLMTLTLFSPDLLGDPDNYTLANPLNTPPHIKPEWYFLFAYTILRSVPNKLGGVLALLLSILILAMIPILHMSKQQSMMFRPLSQSLYWLLAADLLILTWIGGQPVSYPFTIIGQVASVLYFTTILILMPTISLIENKMLKWA'}]\n",
      "['c:\\\\Users\\\\creeperpandatrex\\\\anaconda3\\\\envs\\\\fox-conda\\\\python312.zip', 'c:\\\\Users\\\\creeperpandatrex\\\\anaconda3\\\\envs\\\\fox-conda\\\\DLLs', 'c:\\\\Users\\\\creeperpandatrex\\\\anaconda3\\\\envs\\\\fox-conda\\\\Lib', 'c:\\\\Users\\\\creeperpandatrex\\\\anaconda3\\\\envs\\\\fox-conda', '', 'C:\\\\Users\\\\creeperpandatrex\\\\AppData\\\\Roaming\\\\Python\\\\Python312\\\\site-packages', 'c:\\\\Users\\\\creeperpandatrex\\\\anaconda3\\\\envs\\\\fox-conda\\\\Lib\\\\site-packages', 'c:\\\\Users\\\\creeperpandatrex\\\\anaconda3\\\\envs\\\\fox-conda\\\\Lib\\\\site-packages\\\\win32', 'c:\\\\Users\\\\creeperpandatrex\\\\anaconda3\\\\envs\\\\fox-conda\\\\Lib\\\\site-packages\\\\win32\\\\lib', 'c:\\\\Users\\\\creeperpandatrex\\\\anaconda3\\\\envs\\\\fox-conda\\\\Lib\\\\site-packages\\\\Pythonwin']\n"
     ]
    }
   ],
   "source": [
    "print(fastaProtein[0].keys())\n",
    "print(len(fastaProtein))\n",
    "print(fastaProtein)\n",
    "\n",
    "print(sys.path)\n",
    "\n",
    "def print2file (myObj, result):\n",
    "    out = open(myObj, 'w')\n",
    "    out.write(result)\n",
    "\n",
    "print2file('test.txt', \"fastaProtein 6.10.2024\")\n",
    "print2file(inputPath + 'test.txt', \"fastaProtein\")\n",
    "\n",
    "print2file('test.txt', json.dumps(fastaProtein))"
   ]
  },
  {
   "cell_type": "markdown",
   "metadata": {},
   "source": [
    "## hashing"
   ]
  },
  {
   "cell_type": "code",
   "execution_count": null,
   "metadata": {},
   "outputs": [],
   "source": [
    "from hashlib import sha256\n",
    "import os\n",
    "from dotenv import load_dotenv\n",
    "import gzip\n",
    "\n",
    "print(load_dotenv())\n",
    "print(os.getenv('SEED'))\n",
    "\n",
    "def dict2hashTest (obj):\n",
    "    print(len(obj))\n",
    "    print('label, label+SEED, seq, seq+SEED')\n",
    "    print(obj[0]['label'])\n",
    "    print(sha256(obj[0]['label'].encode()).hexdigest())\n",
    "    print(sha256((obj[0]['label'] + os.getenv('SEED')).encode()).hexdigest())\n",
    "    print(sha256(obj[0]['seq'].encode()).hexdigest())\n",
    "    print(sha256((obj[0]['seq'] + os.getenv('SEED')).encode()).hexdigest())\n",
    "    print()\n",
    "    print(obj[-1]['label'])\n",
    "    print(sha256(obj[-1]['label'].encode()).hexdigest())\n",
    "    print(sha256((obj[-1]['label'] + os.getenv('SEED')).encode()).hexdigest())\n",
    "    print(sha256(obj[-1]['seq'].encode()).hexdigest())\n",
    "    print(sha256((obj[-1]['seq'] + os.getenv('SEED')).encode()).hexdigest())\n",
    "\n",
    "dict2hashTest(fastaProtein)"
   ]
  },
  {
   "cell_type": "code",
   "execution_count": 32,
   "metadata": {},
   "outputs": [
    {
     "name": "stdout",
     "output_type": "stream",
     "text": [
      ">NP_000005.3 alpha-2-macroglobulin isoform a precursor [Homo sapiens]\tacc593d4a4dc05a599a7591f2cd8eed5adf85ba0c4730f945f2b52f25a9ae785\n",
      "acc593d4a4dc05a599a7591f2cd8eed5adf85ba0c4730f945f2b52f25a9ae785\tb95a6d600b87e19f41c58f4632abb62aec4c4e579a500ac6a99131bea0f1b58c\n",
      ">NP_000006.2 arylamine N-acetyltransferase 2 [Homo sapiens]\t70eaa20b350b16ff117954a7bc8d7d96cd91a6ffff1f7b609e2b2e8c21571af7\n",
      "70eaa20b350b16ff117954a7bc8d7d96cd91a6ffff1f7b609e2b2e8c21571af7\t8a49bbe3b3198bda27c745b76e48a07597d34751082636d8247e5e2ce17b36a7\n",
      ">YP_003024037.1 NADH dehydrogenase subunit 6 (mitochondrion) [Homo sapiens]\td225c93263bb3339f2b676bf2b12c91bd9c0b53c463f7c5e34ea450943375703\n",
      "d225c93263bb3339f2b676bf2b12c91bd9c0b53c463f7c5e34ea450943375703\tf176b7256685ce53d4b7db895a875f7d30c5cfb22c79bb5019b9144e811ca870\n",
      ">YP_003024038.1 cytochrome b (mitochondrion) [Homo sapiens]\t211dd8f9f75c43ec2bce9c59732b6ee9c09ace1c67c5abc6ad3eb0eca81c06f2\n",
      "211dd8f9f75c43ec2bce9c59732b6ee9c09ace1c67c5abc6ad3eb0eca81c06f2\tba055bf35109aba02f9b1d58ebbfaebb1c97efe87a4628d25c79e4fd4f0487c0\n"
     ]
    }
   ],
   "source": [
    "def dict2hash (obj):\n",
    "    listDicLabelHash = []\n",
    "    listDicLabelHashSeqHash = []\n",
    "    for item in obj:\n",
    "        labelHash = sha256((item['label'] + os.getenv('SEED')).encode()).hexdigest()\n",
    "        seqHash = sha256((item['seq'] + os.getenv('SEED')).encode()).hexdigest()\n",
    "        print(item['label'] + '\\t' + labelHash)\n",
    "        print(labelHash + '\\t' + seqHash)\n",
    "        return [labelHash, seqHash]\n",
    "\n",
    "result = dict2hash(fastaProtein)"
   ]
  },
  {
   "cell_type": "markdown",
   "metadata": {},
   "source": [
    "### Compressing into a gz file"
   ]
  },
  {
   "cell_type": "code",
   "execution_count": null,
   "metadata": {},
   "outputs": [],
   "source": [
    "def print2gz (myPath, result, addExt):\n",
    "   with gzip.open(myPath + addExt, 'w') as f:\n",
    "    f.write((json.dumps(result)).encode()) # no decode() since it is a str already\n",
    "\n",
    "print2gz(inputPath + inputFile, result[0], '.labelmap.gz')\n",
    "print2gz(inputPath + inputFile, result[1], '.labelseqhash.gz')"
   ]
  },
  {
   "cell_type": "code",
   "execution_count": null,
   "metadata": {},
   "outputs": [],
   "source": [
    "import json\n",
    "\n",
    "def fasta2one (myPath):\n",
    "    with myPath as file:\n",
    "        countNoAngle = 0\n",
    "        fastaArrDics = []\n",
    "        currObj = {\"label\":'', \"seq\":''}\n",
    "        prevObj = {\"label\":'', \"seq\":''}\n",
    "        currSeq = \"\"\n",
    "        for line in file:\n",
    "            if line[0]  == '>':\n",
    "                currSeq = \"\"\n",
    "                prevObj = currObj\n",
    "                currObj = {\"label\":'', \"seq\":''}\n",
    "                currObj[\"label\"] = line\n",
    "                fastaArrDics.append(prevObj)\n",
    "            else:\n",
    "                countNoAngle += 1\n",
    "                currSeq += line.strip()\n",
    "                # oldLine = currObj[\"seq\"]\n",
    "                currObj.update({\"seq\": currSeq}) \n",
    "    # print(countAngle, countNotAngle, countAngle + countNotAngle, count)\n",
    "        # return [len(fastaArrDics), prevObj, currObj, countNoAngle]\n",
    "        return [len(fastaArrDics), fastaArrDics[0], fastaArrDics[1], fastaArrDics[-2], fastaArrDics[-1]]\n",
    "        # return [len(fastaArrDics), fastaArrDics[0], fastaArrDics[1], fastaArrDics[len(-1)]]\n",
    "\n",
    "    \n",
    "def print2file (myObj, result):\n",
    "    out = open(myObj, 'w')\n",
    "    # out.write(json.dumps(result))\n",
    "    json.dump(result, out)\n",
    "    out.close()\n",
    "\n",
    "print(fasta2one(gzip.open(inputFile, 'rt')))\n",
    "# print2file(inputFile + '.out', gzip.open(inputFile, 'rt')) # from arr of dics to json not straightfoward"
   ]
  },
  {
   "cell_type": "markdown",
   "metadata": {},
   "source": [
    "## In labelseqhash.gz\n",
    "1. Find sequence duplicates and count them.\n",
    "\n",
    "## Do statistics and save unique sequences into a file: \n",
    "1. One unique sequence to many labels/names with > char\n",
    "\n",
    "### Step-by-Step Approach:\n",
    "1. Import the Counter module from the collections library.\n",
    "1. Initialize the dictionary with values.\n",
    "1. Create a Counter object using the dictionary values.\n",
    "1. Iterate through the Counter object and extract the keys with count greater than 1 to get the duplicate values.\n",
    "1. Print the duplicate values.\n",
    "\n",
    "### found in https://www.geeksforgeeks.org/python-find-keys-with-duplicate-values-in-dictionary/"
   ]
  },
  {
   "cell_type": "markdown",
   "metadata": {},
   "source": [
    "# Python code to demonstrate \n",
    "# finding duplicate values from ONE dictionary\n",
    " \n",
    "# initialising dictionary\n",
    "ini_dict = {'a':1, 'b':2, 'c':3, 'd':2}\n",
    " \n",
    "# printing initial_dictionary\n",
    "print(\"initial_dictionary\", str(ini_dict))\n",
    " \n",
    "# finding duplicate values\n",
    "# from dictionary using flip\n",
    "flipped = {}\n",
    " \n",
    "for key, value in ini_dict.items():\n",
    "    if value not in flipped:\n",
    "        flipped[value] = [key]\n",
    "    else:\n",
    "        flipped[value].append(key)\n",
    " \n",
    "# printing result\n",
    "print(\"final_dictionary\", str(flipped))"
   ]
  },
  {
   "cell_type": "code",
   "execution_count": 95,
   "metadata": {},
   "outputs": [],
   "source": [
    "#          labelmap    labeseqhash\n",
    "\n",
    "\n",
    "labelSeqHashPartial = [\n",
    "     {\"labelHash\": \"5c513b6a9a2e5492c066582ccc4f7b0f58\", \"seqHash\": \"df32ee41d17e99fbae8a7b983e4a0f75cc288f2c4aca5d9d783a7598212c2546\"},{\"labelHash\": \"87eecab07dd6bbe71a32\", \"seqHash\": \"df32ee41d17e99fbae8a7b983e4a0f75cc288f2c4aca5d9d783a7598212c2546\"},{\"labelHash\": \"87eecab07dd6bbe71a3205767544365c513b6a9a2e5492c066582ccc4f7b0f58\", \"seqHash\": \"df32ee41d17e99fbae8a7b983e4a0f75cc288f2c4aca5d9d783a7598212c2546\"}, {\"labelHash\": \"f3fd5d36fc2cc34c02fa81d61a7bea5c02f2eb9ab02f2d0fd0a0fe09cb56f9e4\", \"seqHash\": \"8889a919f2537b3c7e87d36ef6baf37f5eca22e6e2b29bb6e2d017aced2a2777\"}, {\"labelHash\": \"b7554290ad15c0b939e7cef993be2bd8e845763fdd31ca14cb9d4d55ea7f1587\", \"seqHash\": \"c6a35324b6fe560f3e1bc1c4df4aaebf9d53f8c0c034da0e7f98a9041d31b5dc\"}, {\"labelHash\": \"fc588a8606e3ecb6c848f06a0aa8db87bdf2f8522c73993a34fc7c81f449f112\", \"seqHash\": \"45075f7ccf617e0af6d435f1799c003ddaa7cc915683a265958551a1a519b262\"}, {\"labelHash\": \"493e573302b81fef363a1e4f01de0232f89139ed8da63df5f31d695d15c1c8dd\", \"seqHash\": \"45075f7ccf617e0af6d435f1799c003ddaa7cc915683a265958551a1a519b262\"}, {\"labelHash\": \"aa488e6c8dd16fd769848b36fb65284960573f0ae4023cf17cfd79e0826cd4df\", \"seqHash\": \"f897dd2f861cba0dd3f9a5215c0b3a4f6efae55b9ec74f93bffc8f418b1dead2\"}\n",
    "]\n"
   ]
  },
  {
   "cell_type": "markdown",
   "metadata": {},
   "source": [
    "## Convert dictionary.items() to tuple, then list() to convert to a list of tuples"
   ]
  },
  {
   "cell_type": "code",
   "execution_count": 178,
   "metadata": {},
   "outputs": [
    {
     "name": "stdout",
     "output_type": "stream",
     "text": [
      "dict_items([('labelHash', '5c513b6a9a2e5492c066582ccc4f7b0f58'), ('seqHash', 'df32ee41d17e99fbae8a7b983e4a0f75cc288f2c4aca5d9d783a7598212c2546')])\n",
      "labelHash\n",
      "5c513b6a9a2e5492c066582ccc4f7b0f58\n",
      "seqHash\n",
      "df32ee41d17e99fbae8a7b983e4a0f75cc288f2c4aca5d9d783a7598212c2546\n",
      "[('labelHash', '5c513b6a9a2e5492c066582ccc4f7b0f58'), ('seqHash', 'df32ee41d17e99fbae8a7b983e4a0f75cc288f2c4aca5d9d783a7598212c2546')]\n",
      "labelHash\n"
     ]
    }
   ],
   "source": [
    "# to convert dics.items() to tuples then list() to make a list of tuples\n",
    "# in our case just one tuple per dictionary\n",
    "dictItemsZero = labelSeqHashPartial[0].items()\n",
    "print(dictItemsZero)\n",
    "print(list(dictItemsZero)[0][0])\n",
    "print(list(dictItemsZero)[0][1])\n",
    "print(list(dictItemsZero)[1][0])\n",
    "print(list(dictItemsZero)[1][1])\n",
    "print(list(dictItemsZero))\n",
    "\n",
    "dictKeys = labelSeqHashPartial[0].keys()\n",
    "print(list(dictKeys)[0])"
   ]
  },
  {
   "cell_type": "code",
   "execution_count": null,
   "metadata": {},
   "outputs": [],
   "source": [
    "# list methods\n",
    "print(['a', 'b', 'c'].index('c')) # 2\n",
    "# ['a', 'b', 'c'].index('z') ValueError\n",
    "myList = [1,2,3,4,5,6,7,9]\n",
    "print(myList.__contains__(56)) #f false\n",
    "# match = (i for i in myList if i > 8)\n",
    "# print(match) # <generator object <genexpr> at 0x000001BCB0CF2DC0>\n",
    "print('c' in ['a', 'b', 'c']) # True\n",
    "\n",
    "item = \"f897dd2f861cba0dd3f9a5215c0b3a4f6efae55b9ec74f93bffc8f418b1dead2\"\n",
    "for item in labelSeqHashPartial:\n",
    "    if item['seqHash'] == item:\n",
    "        print('yes')\n",
    "    else:\n",
    "        print(item['seqHash'])\n",
    "        print('no')\n"
   ]
  },
  {
   "cell_type": "code",
   "execution_count": 180,
   "metadata": {},
   "outputs": [
    {
     "name": "stdout",
     "output_type": "stream",
     "text": [
      "Element exists in the list\n"
     ]
    }
   ],
   "source": [
    "my_list = [1, 2, 3, 4, 5]\n",
    "element_to_check = 3\n",
    "\n",
    "# Use filter to create an iterator of elements equal to the target element\n",
    "filtered_elements = filter(lambda x: x == element_to_check, my_list)\n",
    "\n",
    "# Convert the iterator to a list and check if it's not empty\n",
    "if list(filtered_elements):\n",
    "    print(\"Element exists in the list\")\n",
    "else:\n",
    "    print(\"Element does not exist in the list\")\n",
    "# https://www.geeksforgeeks.org/check-if-element-exists-in-list-in-python/"
   ]
  },
  {
   "cell_type": "code",
   "execution_count": null,
   "metadata": {},
   "outputs": [],
   "source": [
    "item1 = \"df32ee41d17e99fbae8a7b983e4a0f75cc288f2c4aca5d9d783a7598212c2546\"\n",
    "tmp = filter(lambda x: x == item, labelSeqHashPartial)\n",
    "if list(tmp):\n",
    "    print('yes')\n",
    "else:\n",
    "    print('not')\n",
    "\n",
    "labelSeqHashPartial.index(item1) # index 5 correct\n",
    "print(item)"
   ]
  },
  {
   "cell_type": "code",
   "execution_count": null,
   "metadata": {},
   "outputs": [],
   "source": [
    "lambdaFilter = filter(lambda x: x == item, labelSeqHashPartial)\n"
   ]
  },
  {
   "cell_type": "markdown",
   "metadata": {},
   "source": [
    "# algorithm from process-protein ipynb\n",
    "1. cell 61: from result[0] labelMap result[1] labelseqHash\n",
    "1. from result[1] loop dictionary['seqHash'] add to a set\n",
    "1. set() does not accept duplicates, but it is unordered\n",
    "1. mySetUniqueSeqHash set 89832\n",
    "1. convert the set to list by list(mySet) to provide an index order\n",
    "1. listOfUnique 89832\n",
    "1. cell 64: create a list of dics duplicated as tuple('seqHash': 'xxxx', 'numOfDups': 19)\n",
    "1. or\n",
    "1. as {'XXXXXX': 19}\n",
    "1. or\n",
    "1. as {'XXXXX\" : []} to be able to add multiple label names hashes\n",
    "1. I decided for {'XXXXX': 19}\n",
    "1. listOfDicsOfDups\n",
    "1. cell 65: create a parallel list same length as listOfUnique and populate with zeros or None's otherwise it will complaint about adding to index out of bounds\n",
    "1. count number of duplicates by looping result[1] and adding one at the findIndex(i['seqHash']) in numOfDups list\n",
    "1. Finally, parallel loop listOfDicsOfDups and numOfDups to create a dic element type {'XXXXXXX': 3} total newList 89832\n",
    "1. Pending to confirm the correct mapping of seqHash to number of duplicates"
   ]
  },
  {
   "cell_type": "markdown",
   "metadata": {},
   "source": [
    "# Summary process-protein 6.14.2024\n",
    "1. read from gz\n",
    "1. convert to non-fasta format: firstline definition, secondline aa\n",
    "1. hashes\n",
    "1. save labelMap and labelSeqHash as gz\n",
    "1. find duplicates and count them\n",
    "    1. convert to a set() to include only unique seqHash\n",
    "    1. convert set to a list of unique seqHash to give index order\n",
    "    1. count duplicates and add to a list of numOfDups same length as the unique seqHash\n",
    "    1. loop original labelseqhash to read unique seqHash list in parallel to numOfDups list to populate it based on same index.\n",
    "    1. create a list of dics (newList) where each dictionary element is of type{'XXXXXX' : 8} key/seqHash and value/number-of-duplicates\n",
    "    1. Test by running def findDuplicates(obj, item) : the obj is result[1] containing labelhash and seqHash k/v pairs \n",
    "    1. and\n",
    "    1. findDup(obj, item) obj is newList and uses dic.get(item) to find the key/value pair which is the seqHash/numberof duplicates. "
   ]
  }
 ],
 "metadata": {
  "kernelspec": {
   "display_name": "base",
   "language": "python",
   "name": "python3"
  },
  "language_info": {
   "codemirror_mode": {
    "name": "ipython",
    "version": 3
   },
   "file_extension": ".py",
   "mimetype": "text/x-python",
   "name": "python",
   "nbconvert_exporter": "python",
   "pygments_lexer": "ipython3",
   "version": "3.12.3"
  }
 },
 "nbformat": 4,
 "nbformat_minor": 2
}
