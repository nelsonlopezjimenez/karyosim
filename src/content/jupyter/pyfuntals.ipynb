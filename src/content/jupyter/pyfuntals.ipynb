{
 "cells": [
  {
   "cell_type": "markdown",
   "metadata": {},
   "source": [
    "# Python Fundamentals from W3S\n",
    "\n",
    "## Content"
   ]
  },
  {
   "cell_type": "code",
   "execution_count": 25,
   "metadata": {},
   "outputs": [
    {
     "name": "stdout",
     "output_type": "stream",
     "text": [
      "3.11.7 | packaged by Anaconda, Inc. | (main, Dec 15 2023, 18:05:47) [MSC v.1916 64 bit (AMD64)]\n"
     ]
    }
   ],
   "source": [
    "import sys\n",
    "print(sys.version)"
   ]
  },
  {
   "cell_type": "markdown",
   "metadata": {},
   "source": [
    "## Casting"
   ]
  },
  {
   "cell_type": "code",
   "execution_count": 26,
   "metadata": {},
   "outputs": [
    {
     "name": "stdout",
     "output_type": "stream",
     "text": [
      "3 3 3.0\n",
      "<class 'str'>\n",
      "<class 'int'>\n"
     ]
    }
   ],
   "source": [
    "x = str(3)\n",
    "y = int(3)\n",
    "z = float(3)\n",
    "print(x,y,z)\n",
    "print(type(x))\n",
    "print(type(y))"
   ]
  },
  {
   "cell_type": "markdown",
   "metadata": {},
   "source": [
    "## Unpack a Collection"
   ]
  },
  {
   "cell_type": "code",
   "execution_count": 27,
   "metadata": {},
   "outputs": [
    {
     "name": "stdout",
     "output_type": "stream",
     "text": [
      "apple banana cherry\n"
     ]
    }
   ],
   "source": [
    "fruits = ['apple', 'banana', 'cherry']\n",
    "x, y, z = fruits\n",
    "print(x, y, z)"
   ]
  },
  {
   "cell_type": "markdown",
   "metadata": {},
   "source": [
    "## Global Variables"
   ]
  },
  {
   "cell_type": "code",
   "execution_count": 28,
   "metadata": {},
   "outputs": [
    {
     "name": "stdout",
     "output_type": "stream",
     "text": [
      "Python is awesome\n"
     ]
    }
   ],
   "source": [
    "x = 'awesome'\n",
    "\n",
    "def myFunc():\n",
    "    print('Python is ' + x)\n",
    "\n",
    "myFunc()"
   ]
  },
  {
   "cell_type": "markdown",
   "metadata": {},
   "source": [
    "## Global vs Local variables"
   ]
  },
  {
   "cell_type": "code",
   "execution_count": 29,
   "metadata": {},
   "outputs": [
    {
     "name": "stdout",
     "output_type": "stream",
     "text": [
      "Python is fantastic\n",
      "Python is awesome\n"
     ]
    }
   ],
   "source": [
    "x = 'awesome'\n",
    "\n",
    "def myFunc():\n",
    "    x = 'fantastic'\n",
    "    print('Python is ' + x)\n",
    "\n",
    "myFunc()\n",
    "\n",
    "print('Python is ' + x)"
   ]
  },
  {
   "cell_type": "markdown",
   "metadata": {},
   "source": [
    "## Data Types\n",
    "\n",
    "1. string: str\n",
    "1. Numeric: int, float, complex\n",
    "1. Sequence type: list, tuple, range\n",
    "1. Mapping type: dict\n",
    "1. Set types: set, frozenset\n",
    "1. bool\n",
    "1. Binary: bytes, bytearray, memoryview\n",
    "1. None type: NoneType"
   ]
  },
  {
   "cell_type": "code",
   "execution_count": 30,
   "metadata": {},
   "outputs": [
    {
     "name": "stdout",
     "output_type": "stream",
     "text": [
      "range(0, 6)\n",
      "b'hello'\n"
     ]
    }
   ],
   "source": [
    "x = range(6)\n",
    "y = b\"hello\"\n",
    "print(x)\n",
    "print(y)"
   ]
  },
  {
   "cell_type": "markdown",
   "metadata": {},
   "source": [
    "## Random Generator"
   ]
  },
  {
   "cell_type": "code",
   "execution_count": 31,
   "metadata": {},
   "outputs": [
    {
     "name": "stdout",
     "output_type": "stream",
     "text": [
      "4 b\n",
      "6 a\n",
      "9 n\n",
      "2 a\n",
      "2 n\n",
      "4 a\n"
     ]
    }
   ],
   "source": [
    "import random\n",
    "\n",
    "for  i in 'banana':\n",
    "    print(random.randrange(1, 10), i)"
   ]
  },
  {
   "cell_type": "markdown",
   "metadata": {},
   "source": [
    "## Check String"
   ]
  },
  {
   "cell_type": "code",
   "execution_count": 32,
   "metadata": {},
   "outputs": [
    {
     "name": "stdout",
     "output_type": "stream",
     "text": [
      "True\n"
     ]
    }
   ],
   "source": [
    "txt = 'The best things in life are free!!'\n",
    "print('free' in txt)"
   ]
  },
  {
   "cell_type": "markdown",
   "metadata": {},
   "source": [
    "## String Slicing\n",
    "\n",
    "from start to end (not included end)"
   ]
  },
  {
   "cell_type": "code",
   "execution_count": 37,
   "metadata": {},
   "outputs": [
    {
     "name": "stdout",
     "output_type": "stream",
     "text": [
      "llo\n",
      "Hello\n",
      "llo World!\n",
      "orld!\n",
      "orl\n"
     ]
    }
   ],
   "source": [
    "b = 'Hello World!'\n",
    "print(b[2:5])\n",
    "print(b[:5])\n",
    "print(b[2:])\n",
    "print(b[-5:])\n",
    "print(b[-5:-2])"
   ]
  },
  {
   "cell_type": "markdown",
   "metadata": {},
   "source": [
    "## Pandas: panel data\n",
    "\n",
    "It is a library created by Wes McKinney in 2008. It allows to clean messy data sets, and make them readable and relevant.\n",
    "Analyze data based on statistical theories.\n",
    "\n",
    "### questions addressed:\n",
    "\n",
    "1. is there a correlation between two or more columns?\n",
    "1. what is the average value?\n",
    "1. what is the max/min values?\n",
    "1. is it possible to delete incomplete/non relevant rows? (is it possible to clean data?)"
   ]
  },
  {
   "cell_type": "code",
   "execution_count": 47,
   "metadata": {},
   "outputs": [
    {
     "name": "stdout",
     "output_type": "stream",
     "text": [
      "   Duration   Pulse   Maxpulse   Calories\n",
      "0        60     110         23         31\n",
      "1       242      12         42       4232\n",
      "2        12     323         42         23\n",
      "3         4      23          2          1\n",
      "4       424       2          1         32\n",
      "    cars  passings\n",
      "0    BMW         3\n",
      "1  Volvo         7\n",
      "2   Ford         2\n",
      "first     1\n",
      "middle    7\n",
      "last      2\n",
      "dtype: int64\n",
      "7\n",
      "cars        [BMW, Volvo, Ford]\n",
      "passings             [3, 7, 2]\n",
      "dtype: object\n"
     ]
    }
   ],
   "source": [
    "import pandas as pd\n",
    "\n",
    "df = pd.read_csv('data.csv')\n",
    "print(df.to_string())\n",
    "\n",
    "x = {\n",
    "    'cars': ['BMW', 'Volvo', 'Ford'],\n",
    "    'passings': [3, 7, 2]\n",
    "}\n",
    "y = pd.DataFrame(x)\n",
    "print(y)\n",
    "\n",
    "z = [1,7,2]\n",
    "\n",
    "my = pd.Series(z, index=['first', 'middle', 'last'])\n",
    "# my = pd.Series(x in passings, index=['first', 'middle', 'last'])\n",
    "print(my)\n",
    "print(my['middle'])\n",
    "\n",
    "my2 = pd.Series(x)\n",
    "print(my2) #keys become labels"
   ]
  },
  {
   "cell_type": "markdown",
   "metadata": {},
   "source": [
    "### DataFrames : multi-dimensional tables\n",
    "\n",
    "Series is like a column, a DataFrame is the whole table."
   ]
  }
 ],
 "metadata": {
  "kernelspec": {
   "display_name": "base",
   "language": "python",
   "name": "python3"
  },
  "language_info": {
   "codemirror_mode": {
    "name": "ipython",
    "version": 3
   },
   "file_extension": ".py",
   "mimetype": "text/x-python",
   "name": "python",
   "nbconvert_exporter": "python",
   "pygments_lexer": "ipython3",
   "version": "3.11.7"
  }
 },
 "nbformat": 4,
 "nbformat_minor": 2
}
