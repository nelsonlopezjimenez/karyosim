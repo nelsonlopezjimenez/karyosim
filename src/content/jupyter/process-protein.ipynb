{
 "cells": [
  {
   "cell_type": "markdown",
   "metadata": {},
   "source": [
    "# Process protein sequences\n",
    "\n",
    "1. read from gz\n",
    "1. convert to non fasta format: firstLine, definition; secondLine, aminoacids\n",
    "1. Hashes"
   ]
  },
  {
   "cell_type": "markdown",
   "metadata": {},
   "source": [
    "# GLOBAL"
   ]
  },
  {
   "cell_type": "code",
   "execution_count": 10,
   "metadata": {},
   "outputs": [],
   "source": [
    "# GLOBALS\n",
    "import sys\n",
    "import json\n",
    "import gzip\n",
    "from hashlib import sha256\n",
    "import os\n",
    "from dotenv import load_dotenv\n",
    "\n",
    "fastaProtein = [ {'label': '>NP_000005.3 alpha-2-macroglobulin isoform a precursor [Homo sapiens]', 'seq': 'MGKNKLLHPSLVLLLLVLLPTDASVSGKPQYMVLVPSLLHTETTEKGCVLLSYLNETVTVSASLESVRGNRSLFTDLEAENDVLHCVAFAVPKSSSNEEVMFLTVQVKGPTQEFKKRTTVMVKNEDSLVFVQTDKSIYKPGQTVKFRVVSMDENFHPLNELIPLVYIQDPKGNRIAQWQSFQLEGGLKQFSFPLSSEPFQGSYKVVVQKKSGGRTEHPFTVEEFVLPKFEVQVTVPKIITILEEEMNVSVCGLYTYGKPVPGHVTVSICRKYSDASDCHGEDSQAFCEKFSGQLNSHGCFYQQVKTKVFQLKRKEYEMKLHTEAQIQEEGTVVELTGRQSSEITRTITKLSFVKVDSHFRQGIPFFGQVRLVDGKGVPIPNKVIFIRGNEANYYSNATTDEHGLVQFSINTTNVMGTSLTVRVNYKDRSPCYGYQWVSEEHEEAHHTAYLVFSPSKSFVHLEPMSHELPCGHTQTVQAHYILNGGTLLGLKKLSFYYLIMAKGGIVRTGTHGLLVKQEDMKGHFSISIPVKSDIAPVARLLIYAVLPTGDVIGDSAKYDVENCLANKVDLSFSPSQSLPASHAHLRVTAAPQSVCALRAVDQSVLLMKPDAELSASSVYNLLPEKDLTGFPGPLNDQDNEDCINRHNVYINGITYTPVSSTNEKDMYSFLEDMGLKAFTNSKIRKPKMCPQLQQYEMHGPEGLRVGFYESDVMGRGHARLVHVEEPHTETVRKYFPETWIWDLVVVNSAGVAEVGVTVPDTITEWKAGAFCLSEDAGLGISSTASLRAFQPFFVELTMPYSVIRGEAFTLKATVLNYLPKCIRVSVQLEASPAFLAVPVEKEQAPHCICANGRQTVSWAVTPKSLGNVNFTVSAEALESQELCGTEVPSVPEHGRKDTVIKPLLVEPEGLEKETTFNSLLCPSGGEVSEELSLKLPPNVVEESARASVSVLGDILGSAMQNTQNLLQMPYGCGEQNMVLFAPNIYVLDYLNETQQLTPEIKSKAIGYLNTGYQRQLNYKHYDGSYSTFGERYGRNQGNTWLTAFVLKTFAQARAYIFIDEAHITQALIWLSQRQKDNGCFRSSGSLLNNAIKGGVEDEVTLSAYITIALLEIPLTVTHPVVRNALFCLESAWKTAQEGDHGSHVYTKALLAYAFALAGNQDKRKEVLKSLNEEAVKKDNSVHWERPQKPKAPVGHFYEPQAPSAEVEMTSYVLLAYLTAQPAPTSEDLTSATNIVKWITKQQNAQGGFSSTQDTVVALHALSKYGAATFTRTGKAAQVTIQSSGTFSSKFQVDNNNRLLLQQVSLPELPGEYSMKVTGEGCVYLQTSLKYNILPEKEEFPFALGVQTLPQTCDEPKAHTSFQISLSVSYTGSRSASNMAIVDVKMVSGFIPLKPTVKMLERSNHVSRTEVSSNHVLIYLDKVSNQTLSLFFTVLQDVPVRDLKPAIVKVYDYYETDEFAIAEYNAPCSKDLGNA'}, {'label': '>NP_000006.2 arylamine N-acetyltransferase 2 [Homo sapiens]', 'seq': 'MDIEAYFERIGYKNSRNKLDLETLTDILEHQIRAVPFENLNMHCGQAMELGLEAIFDHIVRRNRGGWCLQVNQLLYWALTTIGFQTTMLGGYFYIPPVNKYSTGMVHLLLQVTIDGRNYIVDAGSGSSSQMWQPLELISGKDQPQVPCIFCLTEERGIWYLDQIRREQYITNKEFLNSHLLPKKKHQKIYLFTLEPRTIEDFESMNTYLQTSPTSSFITTSFCSLQTPEGVYCLVGFILTYRKFNYKDNTDLVEFKTLTEEEVEEVLRNIFKISLGRNLVPKPGDGSLTI'}, {'label': '>YP_003024037.1 NADH dehydrogenase subunit 6 (mitochondrion) [Homo sapiens]', 'seq': 'MMYALFLLSVGLVMGFVGFSSKPSPIYGGLVLIVSGVVGCVIILNFGGGYMGLMVFLIYLGGMMVVFGYTTAMAIEEYPEAWGSGVEVLVSVLVGLAMEVGLVLWVKEYDGVVVVVNFNSVGSWMIYEGEGSGLIREDPIGAGALYDYGRWLVVVTGWTLFVGVYIVIEIARGN'}, {'label': '>YP_003024038.1 cytochrome b (mitochondrion) [Homo sapiens]', 'seq': 'MTPMRKTNPLMKLINHSFIDLPTPSNISAWWNFGSLLGACLILQITTGLFLAMHYSPDASTAFSSIAHITRDVNYGWIIRYLHANGASMFFICLFLHIGRGLYYGSFLYSETWNIGIILLLATMATAFMGYVLPWGQMSFWGATVITNLLSAIPYIGTDLVQWIWGGYSVDSPTLTRFFTFHFILPFIIAALATLHLLFLHETGSNNPLGITSHSDKITFHPYYTIKDALGLLLFLLSLMTLTLFSPDLLGDPDNYTLANPLNTPPHIKPEWYFLFAYTILRSVPNKLGGVLALLLSILILAMIPILHMSKQQSMMFRPLSQSLYWLLAADLLILTWIGGQPVSYPFTIIGQVASVLYFTTILILMPTISLIENKMLKWA'}]\n",
    "inputPath = 'C:\\\\Users\\\\creeperpandatrex\\\\Documents\\\\1000genomes\\\\DATA\\\\38.p14\\\\'\n",
    "inputFile = 'GCF_000001405.40_GRCh38.p14_protein.faa.gz'\n",
    "\n",
    "# print(os.getenv('SEED'))"
   ]
  },
  {
   "cell_type": "markdown",
   "metadata": {},
   "source": [
    "# Definition/function"
   ]
  },
  {
   "cell_type": "code",
   "execution_count": 3,
   "metadata": {},
   "outputs": [],
   "source": [
    "def fasta2one (myPath):\n",
    "    with myPath as file:\n",
    "        countAngle = 0\n",
    "        countNoAngle = 0\n",
    "        fastaArrDics = []\n",
    "        currObj = {\"label\":'', \"seq\":''}\n",
    "        prevObj = {\"label\":'', \"seq\":''}\n",
    "        currSeq = \"\"\n",
    "        for line in file:\n",
    "            if line[0]  == '>':\n",
    "                countAngle += 1\n",
    "                currSeq = \"\"\n",
    "                prevObj = currObj\n",
    "                currObj = {\"label\":'', \"seq\":''}\n",
    "                currObj[\"label\"] = line.strip()\n",
    "                if countAngle != 1:\n",
    "                    fastaArrDics.append(prevObj)\n",
    "            else:\n",
    "                countNoAngle += 1\n",
    "                currSeq += line.strip()\n",
    "                currObj.update({\"seq\": currSeq}) \n",
    "        fastaArrDics.append(currObj)\n",
    "        # return [len(fastaArrDics), prevObj, currObj, countNoAngle + countAngle]\n",
    "        # return [len(fastaArrDics), fastaArrDics[0], fastaArrDics[1], fastaArrDics[-2], fastaArrDics[-1]]\n",
    "        return fastaArrDics\n",
    "\n",
    "# globalDictionary = fasta2one(gzip.open(inputFile, 'rt'))"
   ]
  },
  {
   "cell_type": "markdown",
   "metadata": {},
   "source": [
    "# Save protein in non fasta format: two lines, definition/aminoacid sequence"
   ]
  },
  {
   "cell_type": "code",
   "execution_count": 8,
   "metadata": {},
   "outputs": [],
   "source": [
    "def print2file (myPath, result):\n",
    "    out = open(myPath, 'w')\n",
    "    out.write(result) # it must be a string\n",
    "\n",
    "globalDictionary = fasta2one(gzip.open(inputPath + inputFile, 'rt'))\n",
    "\n",
    "print2file(inputPath + inputFile + '.nonfasta', json.dumps(globalDictionary))"
   ]
  },
  {
   "cell_type": "markdown",
   "metadata": {},
   "source": [
    "# Hashing"
   ]
  },
  {
   "cell_type": "code",
   "execution_count": 11,
   "metadata": {},
   "outputs": [
    {
     "name": "stdout",
     "output_type": "stream",
     "text": [
      ">NP_000005.3 alpha-2-macroglobulin isoform a precursor [Homo sapiens]\tacc593d4a4dc05a599a7591f2cd8eed5adf85ba0c4730f945f2b52f25a9ae785\n",
      "acc593d4a4dc05a599a7591f2cd8eed5adf85ba0c4730f945f2b52f25a9ae785\tb95a6d600b87e19f41c58f4632abb62aec4c4e579a500ac6a99131bea0f1b58c\n",
      ">NP_000006.2 arylamine N-acetyltransferase 2 [Homo sapiens]\t70eaa20b350b16ff117954a7bc8d7d96cd91a6ffff1f7b609e2b2e8c21571af7\n",
      "70eaa20b350b16ff117954a7bc8d7d96cd91a6ffff1f7b609e2b2e8c21571af7\t8a49bbe3b3198bda27c745b76e48a07597d34751082636d8247e5e2ce17b36a7\n",
      ">YP_003024037.1 NADH dehydrogenase subunit 6 (mitochondrion) [Homo sapiens]\td225c93263bb3339f2b676bf2b12c91bd9c0b53c463f7c5e34ea450943375703\n",
      "d225c93263bb3339f2b676bf2b12c91bd9c0b53c463f7c5e34ea450943375703\tf176b7256685ce53d4b7db895a875f7d30c5cfb22c79bb5019b9144e811ca870\n",
      ">YP_003024038.1 cytochrome b (mitochondrion) [Homo sapiens]\t211dd8f9f75c43ec2bce9c59732b6ee9c09ace1c67c5abc6ad3eb0eca81c06f2\n",
      "211dd8f9f75c43ec2bce9c59732b6ee9c09ace1c67c5abc6ad3eb0eca81c06f2\tba055bf35109aba02f9b1d58ebbfaebb1c97efe87a4628d25c79e4fd4f0487c0\n"
     ]
    }
   ],
   "source": [
    "# Test\n",
    "def dict2hash (obj):\n",
    "    listDicLabelHash = []\n",
    "    listDicLabelHashSeqHash = []\n",
    "    for item in obj:\n",
    "        labelHash = sha256((item['label'] + os.getenv('SEED')).encode()).hexdigest()\n",
    "        seqHash = sha256((item['seq'] + os.getenv('SEED')).encode()).hexdigest()\n",
    "        print(item['label'] + '\\t' + labelHash)\n",
    "        print(labelHash + '\\t' + seqHash)\n",
    "        \n",
    "\n",
    "dict2hash(fastaProtein)"
   ]
  },
  {
   "cell_type": "code",
   "execution_count": null,
   "metadata": {},
   "outputs": [],
   "source": [
    "# All data\n",
    "def dict2hash (obj):\n",
    "    listDicLabelHash = []\n",
    "    listDicLabelHashSeqHash = []\n",
    "    for item in obj:\n",
    "        labelHash = sha256((item['label'] + os.getenv('SEED')).encode()).hexdigest()\n",
    "        seqHash = sha256((item['seq'] + os.getenv('SEED')).encode()).hexdigest()\n",
    "        # print(item['label'] + '\\t' + labelHash)\n",
    "        # print(labelHash + '\\t' + seqHash)\n",
    "        \n",
    "\n",
    "dict2hash(fastaProtein)"
   ]
  }
 ],
 "metadata": {
  "kernelspec": {
   "display_name": "fox-conda",
   "language": "python",
   "name": "python3"
  },
  "language_info": {
   "codemirror_mode": {
    "name": "ipython",
    "version": 3
   },
   "file_extension": ".py",
   "mimetype": "text/x-python",
   "name": "python",
   "nbconvert_exporter": "python",
   "pygments_lexer": "ipython3",
   "version": "3.12.3"
  }
 },
 "nbformat": 4,
 "nbformat_minor": 2
}
